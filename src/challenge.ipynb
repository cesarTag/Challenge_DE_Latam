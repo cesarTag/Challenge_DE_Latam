{
  "nbformat": 4,
  "nbformat_minor": 0,
  "metadata": {
    "colab": {
      "provenance": []
    },
    "kernelspec": {
      "name": "python3",
      "display_name": "Python 3"
    },
    "language_info": {
      "name": "python"
    }
  },
  "cells": [
    {
      "cell_type": "markdown",
      "source": [
        "# Data Engineer Challenge\n",
        "​\n",
        "## Descripción General\n",
        "Bienvenido al desafío para Ingenieros de Datos. En esta ocasión, tendrás la oportunidad de acercarte a parte de la realidad del rol, demostrar tus habilidades y conocimientos en procesamiento de datos con python y diferentes estructuras de datos."
      ],
      "metadata": {
        "id": "dZkYu9ntuNCq"
      }
    },
    {
      "cell_type": "markdown",
      "source": [
        "## Challenge\n",
        "En el [archivo](https://drive.google.com/file/d/1ig2ngoXFTxP5Pa8muXo02mDTFexZzsis/view?usp=sharing) encontrarás un conjunto aproximado de 398MBs. Se pide resolver los siguientes problemas implementando funciones, usando **2 enfoques por cada problema**: Uno en el que se optimice el tiempo de ejecución, y otro en que se optimice la memoria en uso.\n",
        "\n",
        "Tu desafío debe tener al menos 6 archivos python en la carpeta `src`. Cada uno de estos archivos correspondiente a la función del mismo nombre, con el mismo formato que se indica en las instrucciones de más abajo. Solo deja la función. Además de eso, debes tener un archivo `.ipynb` donde expliques con mayor claridad tu código. En este jupyter notebook puedes ejecutar tus funciones, medir el tiempo de ejecución, memoria en uso y explayarte según estimes conveniente. Te recomendamos fuertemente que utilices celdas markdown para que expliques el paso a paso de tu código.\n",
        "\n",
        "**NOTA:** los archivos `.py` y `.ipynb` de interés ya están creados en la estructura del desafío, solo debes completarlos con tu solución y/o agregar los archivos que estimes convenientes."
      ],
      "metadata": {
        "id": "bxbFdsBFuZzn"
      }
    },
    {
      "cell_type": "markdown",
      "source": [
        "##Instalar Dependencias"
      ],
      "metadata": {
        "id": "D6pOIwoQoRdl"
      }
    },
    {
      "cell_type": "code",
      "execution_count": 2,
      "metadata": {
        "colab": {
          "base_uri": "https://localhost:8080/"
        },
        "id": "IEq76mx9nlBu",
        "outputId": "8f0118b7-7683-487e-dae1-578c7690f50c"
      },
      "outputs": [
        {
          "output_type": "stream",
          "name": "stdout",
          "text": [
            "Requirement already satisfied: memory-profiler==0.61.0 in /usr/local/lib/python3.10/dist-packages (0.61.0)\n",
            "Requirement already satisfied: pyspark==3.5.3 in /usr/local/lib/python3.10/dist-packages (3.5.3)\n",
            "Requirement already satisfied: polars==1.9.0 in /usr/local/lib/python3.10/dist-packages (1.9.0)\n",
            "Requirement already satisfied: emoji==2.14.0 in /usr/local/lib/python3.10/dist-packages (2.14.0)\n",
            "Requirement already satisfied: findspark==2.0.1 in /usr/local/lib/python3.10/dist-packages (2.0.1)\n",
            "Requirement already satisfied: psutil in /usr/local/lib/python3.10/dist-packages (from memory-profiler==0.61.0) (5.9.5)\n",
            "Requirement already satisfied: py4j==0.10.9.7 in /usr/local/lib/python3.10/dist-packages (from pyspark==3.5.3) (0.10.9.7)\n"
          ]
        }
      ],
      "source": [
        "#instalar de forma explicita\n",
        "!pip install memory-profiler==0.61.0 pyspark==3.5.3 polars==1.9.0 emoji==2.14.0 findspark==2.0.1"
      ]
    },
    {
      "cell_type": "code",
      "source": [
        "#instalar mediante un archivo\n",
        "!pip install -r requirements.txt"
      ],
      "metadata": {
        "colab": {
          "base_uri": "https://localhost:8080/"
        },
        "id": "8A0CLbS9o-Tv",
        "outputId": "a85d982a-5ea8-448a-eacc-c80c5f6aa0ce"
      },
      "execution_count": 5,
      "outputs": [
        {
          "output_type": "stream",
          "name": "stdout",
          "text": [
            "Requirement already satisfied: memory-profiler==0.61.0 in /usr/local/lib/python3.10/dist-packages (from -r requirements.txt (line 1)) (0.61.0)\n",
            "Requirement already satisfied: pyspark==3.5.3 in /usr/local/lib/python3.10/dist-packages (from -r requirements.txt (line 2)) (3.5.3)\n",
            "Requirement already satisfied: polars==1.9.0 in /usr/local/lib/python3.10/dist-packages (from -r requirements.txt (line 3)) (1.9.0)\n",
            "Requirement already satisfied: emoji==2.14.0 in /usr/local/lib/python3.10/dist-packages (from -r requirements.txt (line 4)) (2.14.0)\n",
            "Requirement already satisfied: findspark==2.0.1 in /usr/local/lib/python3.10/dist-packages (from -r requirements.txt (line 5)) (2.0.1)\n",
            "Requirement already satisfied: psutil in /usr/local/lib/python3.10/dist-packages (from memory-profiler==0.61.0->-r requirements.txt (line 1)) (5.9.5)\n",
            "Requirement already satisfied: py4j==0.10.9.7 in /usr/local/lib/python3.10/dist-packages (from pyspark==3.5.3->-r requirements.txt (line 2)) (0.10.9.7)\n"
          ]
        }
      ]
    },
    {
      "cell_type": "code",
      "source": [
        "#descargar los datos\n",
        "!curl \"https://drive.usercontent.google.com/download?id=1ig2ngoXFTxP5Pa8muXo02mDTFexZzsis&confirm=xxx\" --create-dirs -o \"data/tweets.json.zip\""
      ],
      "metadata": {
        "colab": {
          "base_uri": "https://localhost:8080/"
        },
        "id": "uivp4yxqpg-G",
        "outputId": "2ef3b670-4a25-42a9-d6f3-c738c145e1f2"
      },
      "execution_count": 7,
      "outputs": [
        {
          "output_type": "stream",
          "name": "stdout",
          "text": [
            "  % Total    % Received % Xferd  Average Speed   Time    Time     Time  Current\n",
            "                                 Dload  Upload   Total   Spent    Left  Speed\n",
            "100 57.5M  100 57.5M    0     0  16.7M      0  0:00:03  0:00:03 --:--:-- 16.7M\n"
          ]
        }
      ]
    },
    {
      "cell_type": "code",
      "source": [
        "#descomprimir los datos\n",
        "!unzip -n data/tweets.json.zip"
      ],
      "metadata": {
        "colab": {
          "base_uri": "https://localhost:8080/"
        },
        "id": "S5RP04f4pmki",
        "outputId": "df70eea7-2fbc-4b6f-849a-e4e2a9c7e513"
      },
      "execution_count": 8,
      "outputs": [
        {
          "output_type": "stream",
          "name": "stdout",
          "text": [
            "Archive:  data/tweets.json.zip\n",
            "  inflating: farmers-protest-tweets-2021-2-4.json  \n"
          ]
        }
      ]
    },
    {
      "cell_type": "code",
      "source": [],
      "metadata": {
        "id": "ax0U_VZCu-Fo"
      },
      "execution_count": null,
      "outputs": []
    },
    {
      "cell_type": "code",
      "source": [
        "file_path = \"farmers-protest-tweets-2021-2-4.json\""
      ],
      "metadata": {
        "id": "nFs1OcVQp919"
      },
      "execution_count": 9,
      "outputs": []
    },
    {
      "cell_type": "markdown",
      "source": [
        "\n",
        "​\n",
        "#Primer Challenge Q1\n",
        "1. Las top 10 fechas donde hay más tweets. Mencionar el usuario (username) que más publicaciones tiene por cada uno de esos días. Debe incluir las siguientes funciones:\n",
        "```python\n",
        "def q1_time(file_path: str) -> List[Tuple[datetime.date, str]]:\n",
        "```\n",
        "```python\n",
        "def q1_memory(file_path: str) -> List[Tuple[datetime.date, str]]:\n",
        "```\n",
        "```python\n",
        "Returns:\n",
        "[(datetime.date(1999, 11, 15), \"LATAM321\"), (datetime.date(1999, 7, 15), \"LATAM_CHI\"), ...]\n",
        "```"
      ],
      "metadata": {
        "id": "r8Q0qVPruuMB"
      }
    },
    {
      "cell_type": "markdown",
      "source": [
        "#Segundo Challenge Q2\n",
        "​\n",
        "2. Los top 10 emojis más usados con su respectivo conteo. Debe incluir las siguientes funciones:\n",
        "```python\n",
        "def q2_time(file_path: str) -> List[Tuple[str, int]]:\n",
        "```\n",
        "```python\n",
        "def q2_memory(file_path: str) -> List[Tuple[str, int]]:\n",
        "```\n",
        "```python\n",
        "Returns:\n",
        "[(\"✈️\", 6856), (\"❤️\", 5876), ...]\n",
        "```"
      ],
      "metadata": {
        "id": "fkzx8UmFvKVT"
      }
    },
    {
      "cell_type": "markdown",
      "source": [
        "#Q3 Tercer Challenge Q3\n",
        "3. El top 10 histórico de usuarios (username) más influyentes en función del conteo de las menciones (@) que registra cada uno de ellos. Debe incluir las siguientes funciones:\n",
        "```python\n",
        "def q3_time(file_path: str) -> List[Tuple[str, int]]:\n",
        "```\n",
        "```python\n",
        "def q3_memory(file_path: str) -> List[Tuple[str, int]]:\n",
        "```\n",
        "```python\n",
        "Returns:\n",
        "[(\"LATAM321\", 387), (\"LATAM_CHI\", 129), ...]\n",
        "```"
      ],
      "metadata": {
        "id": "xVCKX5JgvRTZ"
      }
    },
    {
      "cell_type": "markdown",
      "source": [
        "#Implementaciones Optimizadas en Memoria"
      ],
      "metadata": {
        "id": "Yt3Xuj5gvYei"
      }
    },
    {
      "cell_type": "code",
      "source": [
        "import q1_memory as q1\n",
        "from memory_profiler import memory_usage\n",
        "import imp\n",
        "imp.reload(q1)\n",
        "\n",
        "mem_usage_init = memory_usage()[0]\n",
        "q1.q1_memory(file_path)\n",
        "mem_usage_end = memory_usage()[0]\n",
        "print(f\"Uso de Memoria Ram: {mem_usage_end - mem_usage_init} MiB\")"
      ],
      "metadata": {
        "colab": {
          "base_uri": "https://localhost:8080/"
        },
        "id": "3idN4MX0p3ZY",
        "outputId": "15d80d4b-f672-4bd6-987e-3078386c7c1b"
      },
      "execution_count": 13,
      "outputs": [
        {
          "output_type": "stream",
          "name": "stdout",
          "text": [
            "Uso de Memoria Ram: 3.08984375 MiB\n"
          ]
        }
      ]
    },
    {
      "cell_type": "code",
      "source": [
        "import q2_memory as q2\n",
        "imp.reload(q2)\n",
        "\n",
        "mem_usage_init = memory_usage()[0]\n",
        "q2.q2_memory(file_path)\n",
        "mem_usage_end = memory_usage()[0]\n",
        "print(f\"Uso de Memoria Ram: {mem_usage_end - mem_usage_init} MiB\")"
      ],
      "metadata": {
        "colab": {
          "base_uri": "https://localhost:8080/"
        },
        "id": "Co0C2_cyqTqX",
        "outputId": "2591df9b-0895-47e4-f348-dcc73ae49d2e"
      },
      "execution_count": 15,
      "outputs": [
        {
          "output_type": "stream",
          "name": "stdout",
          "text": [
            "Uso de Memoria Ram: 0.515625 MiB\n"
          ]
        }
      ]
    },
    {
      "cell_type": "code",
      "source": [
        "import q3_memory as q3\n",
        "imp.reload(q3)\n",
        "\n",
        "mem_usage_init = memory_usage()[0]\n",
        "q3.q3_memory(file_path)\n",
        "mem_usage_end = memory_usage()[0]\n",
        "print(f\"Uso de Memoria Ram: {mem_usage_end - mem_usage_init} MiB\")"
      ],
      "metadata": {
        "colab": {
          "base_uri": "https://localhost:8080/"
        },
        "id": "KeOHfQfzq-Ls",
        "outputId": "535cc789-3572-4e56-f3b0-713a99a2b8c0"
      },
      "execution_count": 16,
      "outputs": [
        {
          "output_type": "stream",
          "name": "stdout",
          "text": [
            "Uso de Memoria Ram: 1.2890625 MiB\n"
          ]
        }
      ]
    },
    {
      "cell_type": "markdown",
      "source": [
        "##Mediciones de Memoria Ram en los tres desafios:\n",
        "\n",
        "- **Q1** -> Uso de Memoria: 3.089 MiB\n",
        "- **Q2** -> Uso de Memoria: 0.515 MiB\n",
        "- **Q3** -> Uso de Memoria: 1.28 MiB"
      ],
      "metadata": {
        "id": "6QYzYie5rsvP"
      }
    },
    {
      "cell_type": "markdown",
      "source": [
        "#Implementacion de Optimizaciones en Tiempo"
      ],
      "metadata": {
        "id": "vmsIhbgivfb0"
      }
    },
    {
      "cell_type": "code",
      "source": [
        "import q1_time as q1\n",
        "import time\n",
        "imp.reload(q1)\n",
        "\n",
        "time_init = time.time()\n",
        "q1.q1_time(file_path)\n",
        "time_end = time.time()\n",
        "print(f\"Tiempo de ejecución: {time_end - time_init:.2f} segundos\")"
      ],
      "metadata": {
        "colab": {
          "base_uri": "https://localhost:8080/"
        },
        "id": "LEkDshZOrW8Y",
        "outputId": "f4549f74-5358-4d25-b1a0-afadc41c2b60"
      },
      "execution_count": 18,
      "outputs": [
        {
          "output_type": "stream",
          "name": "stdout",
          "text": [
            "Tiempo de ejecución: 10.12 segundos\n"
          ]
        }
      ]
    },
    {
      "cell_type": "code",
      "source": [
        "import q2_time as q2\n",
        "import time\n",
        "imp.reload(q2)\n",
        "\n",
        "time_init = time.time()\n",
        "q2.q2_time(file_path)\n",
        "time_end = time.time()\n",
        "print(f\"Tiempo de ejecución: {time_end - time_init:.2f} segundos\")"
      ],
      "metadata": {
        "colab": {
          "base_uri": "https://localhost:8080/"
        },
        "id": "fkR2E1zCsGJa",
        "outputId": "e79a126f-acc1-4f03-f897-6b94c5ab1ba8"
      },
      "execution_count": 19,
      "outputs": [
        {
          "output_type": "stream",
          "name": "stdout",
          "text": [
            "Tiempo de ejecución: 32.80 segundos\n"
          ]
        }
      ]
    },
    {
      "cell_type": "code",
      "source": [
        "import q3_time as q3\n",
        "import time\n",
        "imp.reload(q3)\n",
        "\n",
        "time_init = time.time()\n",
        "q3.q3_time(file_path)\n",
        "time_end = time.time()\n",
        "print(f\"Tiempo de ejecución: {time_end - time_init:.2f} segundos\")"
      ],
      "metadata": {
        "colab": {
          "base_uri": "https://localhost:8080/"
        },
        "id": "CjgiAGIwsGzG",
        "outputId": "8cf9570b-c67e-45bb-ef3d-4de606dca8b8"
      },
      "execution_count": 20,
      "outputs": [
        {
          "output_type": "stream",
          "name": "stdout",
          "text": [
            "Tiempo de ejecución: 6.77 segundos\n"
          ]
        }
      ]
    },
    {
      "cell_type": "markdown",
      "source": [
        "##Mediciones de tiempo de las implementaciones:\n",
        "\n",
        "- **Q1** -> Tiempo: 10.12 s\n",
        "- **Q2** -> Tiempo: 32.80 s\n",
        "- **Q3** -> Tiempo: 6.77 s"
      ],
      "metadata": {
        "id": "ci_zDDYRsW8g"
      }
    }
  ]
}