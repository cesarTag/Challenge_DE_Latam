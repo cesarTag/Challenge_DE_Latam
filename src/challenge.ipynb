{
  "cells": [
    {
      "cell_type": "markdown",
      "metadata": {
        "id": "M3TnEaim_BKC"
      },
      "source": [
        "En este archivo puedes escribir lo que estimes conveniente. Te recomendamos detallar tu solución y todas las suposiciones que estás considerando. Aquí puedes ejecutar las funciones que definiste en los otros archivos de la carpeta src, medir el tiempo, memoria, etc."
      ]
    },
    {
      "cell_type": "code",
      "source": [
        "!pip install memory-profiler==0.61.0 pyspark emoji findspark"
      ],
      "metadata": {
        "colab": {
          "base_uri": "https://localhost:8080/"
        },
        "collapsed": true,
        "id": "4G0s-xD2_eeN",
        "outputId": "e6ccc8fb-30c7-40db-a6a6-8dd872c7107b"
      },
      "execution_count": null,
      "outputs": [
        {
          "output_type": "stream",
          "name": "stdout",
          "text": [
            "Collecting memory-profiler==0.61.0\n",
            "  Downloading memory_profiler-0.61.0-py3-none-any.whl.metadata (20 kB)\n",
            "Requirement already satisfied: pyspark in /usr/local/lib/python3.10/dist-packages (3.5.3)\n",
            "Collecting emoji\n",
            "  Downloading emoji-2.14.0-py3-none-any.whl.metadata (5.7 kB)\n",
            "Collecting findspark\n",
            "  Downloading findspark-2.0.1-py2.py3-none-any.whl.metadata (352 bytes)\n",
            "Requirement already satisfied: psutil in /usr/local/lib/python3.10/dist-packages (from memory-profiler==0.61.0) (5.9.5)\n",
            "Requirement already satisfied: py4j==0.10.9.7 in /usr/local/lib/python3.10/dist-packages (from pyspark) (0.10.9.7)\n",
            "Downloading memory_profiler-0.61.0-py3-none-any.whl (31 kB)\n",
            "Downloading emoji-2.14.0-py3-none-any.whl (586 kB)\n",
            "\u001b[2K   \u001b[90m━━━━━━━━━━━━━━━━━━━━━━━━━━━━━━━━━━━━━━━━\u001b[0m \u001b[32m586.9/586.9 kB\u001b[0m \u001b[31m10.4 MB/s\u001b[0m eta \u001b[36m0:00:00\u001b[0m\n",
            "\u001b[?25hDownloading findspark-2.0.1-py2.py3-none-any.whl (4.4 kB)\n",
            "Installing collected packages: findspark, memory-profiler, emoji\n",
            "Successfully installed emoji-2.14.0 findspark-2.0.1 memory-profiler-0.61.0\n"
          ]
        }
      ]
    },
    {
      "cell_type": "code",
      "source": [
        "import findspark\n",
        "findspark.init()"
      ],
      "metadata": {
        "id": "3F1gff46Cq-n"
      },
      "execution_count": null,
      "outputs": []
    },
    {
      "cell_type": "code",
      "source": [
        "!echo $SPARK_HOME"
      ],
      "metadata": {
        "colab": {
          "base_uri": "https://localhost:8080/"
        },
        "id": "OkoEd61g-kfW",
        "outputId": "db061655-e6a1-4ad0-db21-b5d2ad8a7b89"
      },
      "execution_count": null,
      "outputs": [
        {
          "output_type": "stream",
          "name": "stdout",
          "text": [
            "/usr/local/lib/python3.10/dist-packages/pyspark\n"
          ]
        }
      ]
    },
    {
      "cell_type": "code",
      "source": [
        "!curl \"https://drive.usercontent.google.com/download?id=1ig2ngoXFTxP5Pa8muXo02mDTFexZzsis&confirm=xxx\" -o \"data/tweets.json.zip\""
      ],
      "metadata": {
        "colab": {
          "base_uri": "https://localhost:8080/"
        },
        "id": "EbTfwVTD5zeq",
        "outputId": "371b169d-cc82-44f2-c7e2-0958572861f0"
      },
      "execution_count": null,
      "outputs": [
        {
          "output_type": "stream",
          "name": "stdout",
          "text": [
            "  % Total    % Received % Xferd  Average Speed   Time    Time     Time  Current\n",
            "                                 Dload  Upload   Total   Spent    Left  Speed\n",
            "100 57.5M  100 57.5M    0     0  25.7M      0  0:00:02  0:00:02 --:--:-- 25.7M\n"
          ]
        }
      ]
    },
    {
      "cell_type": "code",
      "source": [
        "!unzip data/tweets.json.zip -d data/"
      ],
      "metadata": {
        "colab": {
          "base_uri": "https://localhost:8080/"
        },
        "id": "jnRv69YB6gRB",
        "outputId": "7aeb788e-e9c1-4bb5-a7f3-7bd8a545f9f3"
      },
      "execution_count": null,
      "outputs": [
        {
          "output_type": "stream",
          "name": "stdout",
          "text": [
            "Archive:  data/tweets.json.zip\n",
            "  inflating: data/farmers-protest-tweets-2021-2-4.json  \n"
          ]
        }
      ]
    },
    {
      "cell_type": "code",
      "execution_count": null,
      "metadata": {
        "id": "r95HamEd_BKE"
      },
      "outputs": [],
      "source": [
        "file_path = \"/content/data/farmers-protest-tweets-2021-2-4.json\""
      ]
    },
    {
      "cell_type": "code",
      "source": [
        "from pyspark.sql import SparkSession\n",
        "import zipfile\n",
        "import findspark\n",
        "import os\n",
        "from pyspark.sql.functions import desc, to_date, col, sum, rank, when, col, regexp_replace, lower\n",
        "from pyspark.sql.window import Window\n",
        "\n",
        "def getSparkInstance(name_app=\"test_app\") -> SparkSession:\n",
        "    findspark.init()\n",
        "    spark = SparkSession.builder \\\n",
        "      .appName(name_app) \\\n",
        "      .config(\"spark.driver.memory\", \"2g\") \\\n",
        "      .config(\"spark.executor.extraJavaOptions\", \"--illegal-access=permit\") \\\n",
        "      .getOrCreate()\n",
        "    spark.sparkContext.setLogLevel(\"ERROR\")\n",
        "    return spark"
      ],
      "metadata": {
        "id": "C6zUhfAWHLNk"
      },
      "execution_count": null,
      "outputs": []
    },
    {
      "cell_type": "code",
      "source": [
        "#crear dataframe solo con las columnas a utilizar, transformando la columna date\n",
        "#(en formato datetime) a formato date y ademas limpiando el campo username,\n",
        "#quitando espacios y transformando a minuscula para su conteo.\n",
        "try:\n",
        "  spark = getSparkInstance(name_app=\"test_app\")\n",
        "  data = spark.read.json(file_path).select('date','user.username') \\\n",
        "  .withColumn(\"date\", to_date(\"date\")) \\\n",
        "  .withColumn(\"username\", when(col(\"username\").isNotNull(), regexp_replace(lower('username'), ' ', '')).otherwise(None) )\n",
        "except (FileNotFoundError, IOError) as e:\n",
        "  print(f'Error archivo no existe en el path: {file_path}, error -> {e}')\n"
      ],
      "metadata": {
        "id": "vkJHcYF1OHjg"
      },
      "execution_count": null,
      "outputs": []
    },
    {
      "cell_type": "code",
      "source": [
        "data.show(10)"
      ],
      "metadata": {
        "colab": {
          "base_uri": "https://localhost:8080/"
        },
        "id": "QwSX0QLcM80x",
        "outputId": "b8463418-c92c-4ec6-8438-988900c39b66"
      },
      "execution_count": null,
      "outputs": [
        {
          "output_type": "stream",
          "name": "stdout",
          "text": [
            "+----------+---------------+\n",
            "|      date|       username|\n",
            "+----------+---------------+\n",
            "|2021-02-24|arjunsinghpanam|\n",
            "|2021-02-24|     prdeepnain|\n",
            "|2021-02-24| parmarmaninder|\n",
            "|2021-02-24|  anmoldhaliwal|\n",
            "|2021-02-24|     kotiapreet|\n",
            "|2021-02-24|      babli_708|\n",
            "|2021-02-24|varinde17354019|\n",
            "|2021-02-24|    bitnamsingh|\n",
            "|2021-02-24|  anmoldhaliwal|\n",
            "|2021-02-24|      satthiara|\n",
            "+----------+---------------+\n",
            "only showing top 10 rows\n",
            "\n"
          ]
        }
      ]
    },
    {
      "cell_type": "code",
      "source": [
        "#Get schema and datatypes of data\n",
        "data.printSchema()"
      ],
      "metadata": {
        "colab": {
          "base_uri": "https://localhost:8080/"
        },
        "id": "PV2aMq0CYE76",
        "outputId": "839f7805-e851-42c7-82e3-07970b98bc99"
      },
      "execution_count": null,
      "outputs": [
        {
          "output_type": "stream",
          "name": "stdout",
          "text": [
            "root\n",
            " |-- date: date (nullable = true)\n",
            " |-- username: string (nullable = true)\n",
            "\n"
          ]
        }
      ]
    },
    {
      "cell_type": "code",
      "source": [
        "#calcular y añadir a nueva columna la cantidad de tweets de cada usuario\n",
        "df_conteo_tweets = data.groupBy('date','username').count().withColumnRenamed(\"count\", \"tweets\")\n",
        "df_conteo_tweets.orderBy(desc(\"tweets\")).show(5)"
      ],
      "metadata": {
        "colab": {
          "base_uri": "https://localhost:8080/"
        },
        "id": "WafJJuobactV",
        "outputId": "82e7b618-2760-4381-f53d-0803670dec24"
      },
      "execution_count": null,
      "outputs": [
        {
          "output_type": "stream",
          "name": "stdout",
          "text": [
            "+----------+---------------+------+\n",
            "|      date|       username|tweets|\n",
            "+----------+---------------+------+\n",
            "|2021-02-19|       preetm91|   267|\n",
            "|2021-02-18|neetuanjle_nitu|   195|\n",
            "|2021-02-17| raajvinderkaur|   185|\n",
            "|2021-02-13|maandee08215437|   178|\n",
            "|2021-02-12|ranbirs00614606|   176|\n",
            "+----------+---------------+------+\n",
            "only showing top 5 rows\n",
            "\n"
          ]
        }
      ]
    },
    {
      "cell_type": "code",
      "source": [
        "# Se define una ventana para obtener el usuario con más tweets por fecha\n",
        "window = Window.partitionBy('date').orderBy(col('tweets').desc())\n",
        "top_twitters_df = df_conteo_tweets.withColumn('top_twitters', rank().over(window)).filter(col('top_twitters') == 1)\n",
        "top_twitters_df.orderBy(col('date').asc(), col('top_twitters').asc()).show()"
      ],
      "metadata": {
        "colab": {
          "base_uri": "https://localhost:8080/"
        },
        "id": "pF1JILvtcKk8",
        "outputId": "5c437407-11c2-4dd5-bc17-1423b08adca5"
      },
      "execution_count": null,
      "outputs": [
        {
          "output_type": "stream",
          "name": "stdout",
          "text": [
            "+----------+---------------+------+------------+\n",
            "|      date|       username|tweets|top_twitters|\n",
            "+----------+---------------+------+------------+\n",
            "|2021-02-12|ranbirs00614606|   176|           1|\n",
            "|2021-02-13|maandee08215437|   178|           1|\n",
            "|2021-02-14|  rebelpacifist|   119|           1|\n",
            "|2021-02-15|         jot__b|   134|           1|\n",
            "|2021-02-16|         jot__b|   133|           1|\n",
            "|2021-02-17| raajvinderkaur|   185|           1|\n",
            "|2021-02-18|neetuanjle_nitu|   195|           1|\n",
            "|2021-02-19|       preetm91|   267|           1|\n",
            "|2021-02-20|mangalj23056160|   108|           1|\n",
            "|2021-02-21|     surrypuria|   161|           1|\n",
            "|2021-02-22| preetysaini321|   110|           1|\n",
            "|2021-02-23|     surrypuria|   135|           1|\n",
            "|2021-02-24| preetysaini321|   107|           1|\n",
            "+----------+---------------+------+------------+\n",
            "\n"
          ]
        }
      ]
    },
    {
      "cell_type": "code",
      "source": [
        "max_tweets_data = df_conteo_tweets.groupBy(\"date\").agg(sum(\"tweets\").alias(\"sum_tweets\"))\n",
        "max_tweets_data.orderBy(col('sum_tweets').desc()).show(100)"
      ],
      "metadata": {
        "colab": {
          "base_uri": "https://localhost:8080/"
        },
        "id": "xYAg5WeMQqQR",
        "outputId": "6baa9d89-0dee-4133-87ef-df929c5290f8"
      },
      "execution_count": null,
      "outputs": [
        {
          "output_type": "stream",
          "name": "stdout",
          "text": [
            "+----------+----------+\n",
            "|      date|sum_tweets|\n",
            "+----------+----------+\n",
            "|2021-02-12|     12347|\n",
            "|2021-02-13|     11296|\n",
            "|2021-02-17|     11087|\n",
            "|2021-02-16|     10443|\n",
            "|2021-02-14|     10249|\n",
            "|2021-02-18|      9625|\n",
            "|2021-02-15|      9197|\n",
            "|2021-02-20|      8502|\n",
            "|2021-02-23|      8417|\n",
            "|2021-02-19|      8204|\n",
            "|2021-02-21|      7532|\n",
            "|2021-02-22|      7071|\n",
            "|2021-02-24|      3437|\n",
            "+----------+----------+\n",
            "\n"
          ]
        }
      ]
    },
    {
      "cell_type": "code",
      "source": [
        "#join de ambas dataframes para setear el resultado solicitado\n",
        "df_final = top_twitters_df.join(max_tweets_data, \"date\", \"inner\").select('*').orderBy(col('sum_tweets').desc())\n",
        "df_final.show(100)"
      ],
      "metadata": {
        "colab": {
          "base_uri": "https://localhost:8080/"
        },
        "id": "Ngjkd9fhRKIT",
        "outputId": "674ed463-d963-47d2-aca6-cfa18afc466c"
      },
      "execution_count": null,
      "outputs": [
        {
          "output_type": "stream",
          "name": "stdout",
          "text": [
            "+----------+---------------+------+------------+----------+\n",
            "|      date|       username|tweets|top_twitters|sum_tweets|\n",
            "+----------+---------------+------+------------+----------+\n",
            "|2021-02-12|ranbirs00614606|   176|           1|     12347|\n",
            "|2021-02-13|maandee08215437|   178|           1|     11296|\n",
            "|2021-02-17| raajvinderkaur|   185|           1|     11087|\n",
            "|2021-02-16|         jot__b|   133|           1|     10443|\n",
            "|2021-02-14|  rebelpacifist|   119|           1|     10249|\n",
            "|2021-02-18|neetuanjle_nitu|   195|           1|      9625|\n",
            "|2021-02-15|         jot__b|   134|           1|      9197|\n",
            "|2021-02-20|mangalj23056160|   108|           1|      8502|\n",
            "|2021-02-23|     surrypuria|   135|           1|      8417|\n",
            "|2021-02-19|       preetm91|   267|           1|      8204|\n",
            "|2021-02-21|     surrypuria|   161|           1|      7532|\n",
            "|2021-02-22| preetysaini321|   110|           1|      7071|\n",
            "|2021-02-24| preetysaini321|   107|           1|      3437|\n",
            "+----------+---------------+------+------------+----------+\n",
            "\n"
          ]
        }
      ]
    },
    {
      "cell_type": "code",
      "source": [
        "#al estar ordenados por la cantidad de tweets por fecha al seleccionar los primeros 10 obtenemos efectivamente el top 10 de tweets en esa fecha\n",
        "result_list = [(row['date'], row['username']) for row in df_final.limit(10).collect()]\n",
        "result_list"
      ],
      "metadata": {
        "colab": {
          "base_uri": "https://localhost:8080/"
        },
        "id": "TwZQjdUgR424",
        "outputId": "699399a5-56c9-4e6f-e453-55bafc81a5e2"
      },
      "execution_count": null,
      "outputs": [
        {
          "output_type": "execute_result",
          "data": {
            "text/plain": [
              "[(datetime.date(2021, 2, 12), 'ranbirs00614606'),\n",
              " (datetime.date(2021, 2, 13), 'maandee08215437'),\n",
              " (datetime.date(2021, 2, 17), 'raajvinderkaur'),\n",
              " (datetime.date(2021, 2, 16), 'jot__b'),\n",
              " (datetime.date(2021, 2, 14), 'rebelpacifist'),\n",
              " (datetime.date(2021, 2, 18), 'neetuanjle_nitu'),\n",
              " (datetime.date(2021, 2, 15), 'jot__b'),\n",
              " (datetime.date(2021, 2, 20), 'mangalj23056160'),\n",
              " (datetime.date(2021, 2, 23), 'surrypuria'),\n",
              " (datetime.date(2021, 2, 19), 'preetm91')]"
            ]
          },
          "metadata": {},
          "execution_count": 36
        }
      ]
    }
  ],
  "metadata": {
    "language_info": {
      "name": "python"
    },
    "orig_nbformat": 4,
    "colab": {
      "provenance": []
    },
    "kernelspec": {
      "name": "python3",
      "display_name": "Python 3"
    }
  },
  "nbformat": 4,
  "nbformat_minor": 0
}