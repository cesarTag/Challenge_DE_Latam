{
  "nbformat": 4,
  "nbformat_minor": 0,
  "metadata": {
    "colab": {
      "provenance": []
    },
    "kernelspec": {
      "name": "python3",
      "display_name": "Python 3"
    },
    "language_info": {
      "name": "python"
    }
  },
  "cells": [
    {
      "cell_type": "markdown",
      "source": [
        "# Data Engineer Challenge\n",
        "​\n",
        "## Descripción General\n",
        "Bienvenido al desafío para Ingenieros de Datos. En esta ocasión, tendrás la oportunidad de acercarte a parte de la realidad del rol, demostrar tus habilidades y conocimientos en procesamiento de datos con python y diferentes estructuras de datos."
      ],
      "metadata": {
        "id": "dZkYu9ntuNCq"
      }
    },
    {
      "cell_type": "markdown",
      "source": [
        "## Challenge\n",
        "En el [archivo](https://drive.google.com/file/d/1ig2ngoXFTxP5Pa8muXo02mDTFexZzsis/view?usp=sharing) encontrarás un conjunto aproximado de 398MBs. Se pide resolver los siguientes problemas implementando funciones, usando **2 enfoques por cada problema**: Uno en el que se optimice el tiempo de ejecución, y otro en que se optimice la memoria en uso.\n",
        "\n",
        "Tu desafío debe tener al menos 6 archivos python en la carpeta `src`. Cada uno de estos archivos correspondiente a la función del mismo nombre, con el mismo formato que se indica en las instrucciones de más abajo. Solo deja la función. Además de eso, debes tener un archivo `.ipynb` donde expliques con mayor claridad tu código. En este jupyter notebook puedes ejecutar tus funciones, medir el tiempo de ejecución, memoria en uso y explayarte según estimes conveniente. Te recomendamos fuertemente que utilices celdas markdown para que expliques el paso a paso de tu código.\n",
        "\n",
        "**NOTA:** los archivos `.py` y `.ipynb` de interés ya están creados en la estructura del desafío, solo debes completarlos con tu solución y/o agregar los archivos que estimes convenientes."
      ],
      "metadata": {
        "id": "bxbFdsBFuZzn"
      }
    },
    {
      "cell_type": "markdown",
      "source": [
        "##Instalar Dependencias"
      ],
      "metadata": {
        "id": "D6pOIwoQoRdl"
      }
    },
    {
      "cell_type": "code",
      "execution_count": 2,
      "metadata": {
        "colab": {
          "base_uri": "https://localhost:8080/"
        },
        "id": "IEq76mx9nlBu",
        "outputId": "8f0118b7-7683-487e-dae1-578c7690f50c"
      },
      "outputs": [
        {
          "output_type": "stream",
          "name": "stdout",
          "text": [
            "Requirement already satisfied: memory-profiler==0.61.0 in /usr/local/lib/python3.10/dist-packages (0.61.0)\n",
            "Requirement already satisfied: pyspark==3.5.3 in /usr/local/lib/python3.10/dist-packages (3.5.3)\n",
            "Requirement already satisfied: polars==1.9.0 in /usr/local/lib/python3.10/dist-packages (1.9.0)\n",
            "Requirement already satisfied: emoji==2.14.0 in /usr/local/lib/python3.10/dist-packages (2.14.0)\n",
            "Requirement already satisfied: findspark==2.0.1 in /usr/local/lib/python3.10/dist-packages (2.0.1)\n",
            "Requirement already satisfied: psutil in /usr/local/lib/python3.10/dist-packages (from memory-profiler==0.61.0) (5.9.5)\n",
            "Requirement already satisfied: py4j==0.10.9.7 in /usr/local/lib/python3.10/dist-packages (from pyspark==3.5.3) (0.10.9.7)\n"
          ]
        }
      ],
      "source": [
        "#instalar de forma explicita\n",
        "!pip install memory-profiler==0.61.0 pyspark==3.5.3 polars==1.9.0 emoji==2.14.0 findspark==2.0.1"
      ]
    },
    {
      "cell_type": "code",
      "source": [
        "#instalar mediante un archivo\n",
        "!pip install -r requirements.txt"
      ],
      "metadata": {
        "colab": {
          "base_uri": "https://localhost:8080/"
        },
        "id": "8A0CLbS9o-Tv",
        "outputId": "a85d982a-5ea8-448a-eacc-c80c5f6aa0ce"
      },
      "execution_count": 5,
      "outputs": [
        {
          "output_type": "stream",
          "name": "stdout",
          "text": [
            "Requirement already satisfied: memory-profiler==0.61.0 in /usr/local/lib/python3.10/dist-packages (from -r requirements.txt (line 1)) (0.61.0)\n",
            "Requirement already satisfied: pyspark==3.5.3 in /usr/local/lib/python3.10/dist-packages (from -r requirements.txt (line 2)) (3.5.3)\n",
            "Requirement already satisfied: polars==1.9.0 in /usr/local/lib/python3.10/dist-packages (from -r requirements.txt (line 3)) (1.9.0)\n",
            "Requirement already satisfied: emoji==2.14.0 in /usr/local/lib/python3.10/dist-packages (from -r requirements.txt (line 4)) (2.14.0)\n",
            "Requirement already satisfied: findspark==2.0.1 in /usr/local/lib/python3.10/dist-packages (from -r requirements.txt (line 5)) (2.0.1)\n",
            "Requirement already satisfied: psutil in /usr/local/lib/python3.10/dist-packages (from memory-profiler==0.61.0->-r requirements.txt (line 1)) (5.9.5)\n",
            "Requirement already satisfied: py4j==0.10.9.7 in /usr/local/lib/python3.10/dist-packages (from pyspark==3.5.3->-r requirements.txt (line 2)) (0.10.9.7)\n"
          ]
        }
      ]
    },
    {
      "cell_type": "code",
      "source": [
        "#descargar los datos\n",
        "!curl \"https://drive.usercontent.google.com/download?id=1ig2ngoXFTxP5Pa8muXo02mDTFexZzsis&confirm=xxx\" --create-dirs -o \"data/tweets.json.zip\""
      ],
      "metadata": {
        "colab": {
          "base_uri": "https://localhost:8080/"
        },
        "id": "uivp4yxqpg-G",
        "outputId": "c69de4f9-8791-4f18-93d3-067406892988"
      },
      "execution_count": 12,
      "outputs": [
        {
          "output_type": "stream",
          "name": "stdout",
          "text": [
            "  % Total    % Received % Xferd  Average Speed   Time    Time     Time  Current\n",
            "                                 Dload  Upload   Total   Spent    Left  Speed\n",
            "100 57.5M  100 57.5M    0     0  54.1M      0  0:00:01  0:00:01 --:--:-- 54.1M\n"
          ]
        }
      ]
    },
    {
      "cell_type": "code",
      "source": [
        "#descomprimir los datos\n",
        "!unzip -n data/tweets.json.zip"
      ],
      "metadata": {
        "colab": {
          "base_uri": "https://localhost:8080/"
        },
        "id": "S5RP04f4pmki",
        "outputId": "a0b5cb46-2a44-430e-b341-408e8fe61916"
      },
      "execution_count": 13,
      "outputs": [
        {
          "output_type": "stream",
          "name": "stdout",
          "text": [
            "Archive:  data/tweets.json.zip\n",
            "  inflating: farmers-protest-tweets-2021-2-4.json  \n"
          ]
        }
      ]
    },
    {
      "cell_type": "code",
      "source": [
        "file_path = \"farmers-protest-tweets-2021-2-4.json\""
      ],
      "metadata": {
        "id": "nFs1OcVQp919"
      },
      "execution_count": 9,
      "outputs": []
    },
    {
      "cell_type": "markdown",
      "source": [
        "\n",
        "​\n",
        "#Primer Challenge Q1\n",
        "1. Las top 10 fechas donde hay más tweets. Mencionar el usuario (username) que más publicaciones tiene por cada uno de esos días. Debe incluir las siguientes funciones:\n",
        "```python\n",
        "def q1_time(file_path: str) -> List[Tuple[datetime.date, str]]:\n",
        "```\n",
        "```python\n",
        "def q1_memory(file_path: str) -> List[Tuple[datetime.date, str]]:\n",
        "```\n",
        "```python\n",
        "Returns:\n",
        "[(datetime.date(1999, 11, 15), \"LATAM321\"), (datetime.date(1999, 7, 15), \"LATAM_CHI\"), ...]\n",
        "```"
      ],
      "metadata": {
        "id": "r8Q0qVPruuMB"
      }
    },
    {
      "cell_type": "markdown",
      "source": [
        "#Segundo Challenge Q2\n",
        "​\n",
        "2. Los top 10 emojis más usados con su respectivo conteo. Debe incluir las siguientes funciones:\n",
        "```python\n",
        "def q2_time(file_path: str) -> List[Tuple[str, int]]:\n",
        "```\n",
        "```python\n",
        "def q2_memory(file_path: str) -> List[Tuple[str, int]]:\n",
        "```\n",
        "```python\n",
        "Returns:\n",
        "[(\"✈️\", 6856), (\"❤️\", 5876), ...]\n",
        "```"
      ],
      "metadata": {
        "id": "fkzx8UmFvKVT"
      }
    },
    {
      "cell_type": "markdown",
      "source": [
        "#Q3 Tercer Challenge Q3\n",
        "3. El top 10 histórico de usuarios (username) más influyentes en función del conteo de las menciones (@) que registra cada uno de ellos. Debe incluir las siguientes funciones:\n",
        "```python\n",
        "def q3_time(file_path: str) -> List[Tuple[str, int]]:\n",
        "```\n",
        "```python\n",
        "def q3_memory(file_path: str) -> List[Tuple[str, int]]:\n",
        "```\n",
        "```python\n",
        "Returns:\n",
        "[(\"LATAM321\", 387), (\"LATAM_CHI\", 129), ...]\n",
        "```"
      ],
      "metadata": {
        "id": "xVCKX5JgvRTZ"
      }
    },
    {
      "cell_type": "markdown",
      "source": [
        "#Implementaciones Optimizadas en Memoria"
      ],
      "metadata": {
        "id": "Yt3Xuj5gvYei"
      }
    },
    {
      "cell_type": "code",
      "source": [
        "import q1_memory as q1\n",
        "from memory_profiler import memory_usage\n",
        "import imp\n",
        "imp.reload(q1)\n",
        "\n",
        "mem_usage_init = memory_usage()[0]\n",
        "q1.q1_memory(file_path)\n",
        "mem_usage_end = memory_usage()[0]\n",
        "print(f\"Uso de Memoria Ram: {mem_usage_end - mem_usage_init} MiB\")"
      ],
      "metadata": {
        "colab": {
          "base_uri": "https://localhost:8080/"
        },
        "id": "3idN4MX0p3ZY",
        "outputId": "15d80d4b-f672-4bd6-987e-3078386c7c1b"
      },
      "execution_count": 13,
      "outputs": [
        {
          "output_type": "stream",
          "name": "stdout",
          "text": [
            "Uso de Memoria Ram: 3.08984375 MiB\n"
          ]
        }
      ]
    },
    {
      "cell_type": "code",
      "source": [
        "import q2_memory as q2\n",
        "imp.reload(q2)\n",
        "\n",
        "mem_usage_init = memory_usage()[0]\n",
        "q2.q2_memory(file_path)\n",
        "mem_usage_end = memory_usage()[0]\n",
        "print(f\"Uso de Memoria Ram: {mem_usage_end - mem_usage_init} MiB\")"
      ],
      "metadata": {
        "colab": {
          "base_uri": "https://localhost:8080/"
        },
        "id": "Co0C2_cyqTqX",
        "outputId": "2591df9b-0895-47e4-f348-dcc73ae49d2e"
      },
      "execution_count": 15,
      "outputs": [
        {
          "output_type": "stream",
          "name": "stdout",
          "text": [
            "Uso de Memoria Ram: 0.515625 MiB\n"
          ]
        }
      ]
    },
    {
      "cell_type": "code",
      "source": [
        "import q3_memory as q3\n",
        "imp.reload(q3)\n",
        "\n",
        "mem_usage_init = memory_usage()[0]\n",
        "q3.q3_memory(file_path)\n",
        "mem_usage_end = memory_usage()[0]\n",
        "print(f\"Uso de Memoria Ram: {mem_usage_end - mem_usage_init} MiB\")"
      ],
      "metadata": {
        "colab": {
          "base_uri": "https://localhost:8080/"
        },
        "id": "KeOHfQfzq-Ls",
        "outputId": "535cc789-3572-4e56-f3b0-713a99a2b8c0"
      },
      "execution_count": 16,
      "outputs": [
        {
          "output_type": "stream",
          "name": "stdout",
          "text": [
            "Uso de Memoria Ram: 1.2890625 MiB\n"
          ]
        }
      ]
    },
    {
      "cell_type": "markdown",
      "source": [
        "##Mediciones de Memoria Ram en los tres desafios:\n",
        "\n",
        "- **Q1** -> Uso de Memoria: 3.089 MiB\n",
        "- **Q2** -> Uso de Memoria: 0.515 MiB\n",
        "- **Q3** -> Uso de Memoria: 1.28 MiB"
      ],
      "metadata": {
        "id": "6QYzYie5rsvP"
      }
    },
    {
      "cell_type": "markdown",
      "source": [
        "#Implementacion de Optimizaciones en Tiempo"
      ],
      "metadata": {
        "id": "vmsIhbgivfb0"
      }
    },
    {
      "cell_type": "code",
      "source": [
        "import q1_time as q1\n",
        "import time\n",
        "imp.reload(q1)\n",
        "\n",
        "time_init = time.time()\n",
        "q1.q1_time(file_path)\n",
        "time_end = time.time()\n",
        "print(f\"Tiempo de ejecución: {time_end - time_init:.2f} segundos\")"
      ],
      "metadata": {
        "colab": {
          "base_uri": "https://localhost:8080/"
        },
        "id": "LEkDshZOrW8Y",
        "outputId": "f4549f74-5358-4d25-b1a0-afadc41c2b60"
      },
      "execution_count": 18,
      "outputs": [
        {
          "output_type": "stream",
          "name": "stdout",
          "text": [
            "Tiempo de ejecución: 10.12 segundos\n"
          ]
        }
      ]
    },
    {
      "cell_type": "code",
      "source": [
        "import q2_time as q2\n",
        "import time\n",
        "imp.reload(q2)\n",
        "\n",
        "time_init = time.time()\n",
        "q2.q2_time(file_path)\n",
        "time_end = time.time()\n",
        "print(f\"Tiempo de ejecución: {time_end - time_init:.2f} segundos\")"
      ],
      "metadata": {
        "colab": {
          "base_uri": "https://localhost:8080/"
        },
        "id": "fkR2E1zCsGJa",
        "outputId": "e79a126f-acc1-4f03-f897-6b94c5ab1ba8"
      },
      "execution_count": 19,
      "outputs": [
        {
          "output_type": "stream",
          "name": "stdout",
          "text": [
            "Tiempo de ejecución: 32.80 segundos\n"
          ]
        }
      ]
    },
    {
      "cell_type": "code",
      "source": [
        "import q3_time as q3\n",
        "import time\n",
        "imp.reload(q3)\n",
        "\n",
        "time_init = time.time()\n",
        "q3.q3_time(file_path)\n",
        "time_end = time.time()\n",
        "print(f\"Tiempo de ejecución: {time_end - time_init:.2f} segundos\")"
      ],
      "metadata": {
        "colab": {
          "base_uri": "https://localhost:8080/"
        },
        "id": "CjgiAGIwsGzG",
        "outputId": "8cf9570b-c67e-45bb-ef3d-4de606dca8b8"
      },
      "execution_count": 20,
      "outputs": [
        {
          "output_type": "stream",
          "name": "stdout",
          "text": [
            "Tiempo de ejecución: 6.77 segundos\n"
          ]
        }
      ]
    },
    {
      "cell_type": "markdown",
      "source": [
        "##Mediciones de tiempo de las implementaciones:\n",
        "\n",
        "- **Q1** -> Tiempo: 10.12 s\n",
        "- **Q2** -> Tiempo: 32.80 s\n",
        "- **Q3** -> Tiempo: 6.77 s"
      ],
      "metadata": {
        "id": "ci_zDDYRsW8g"
      }
    },
    {
      "cell_type": "markdown",
      "source": [
        "# **Mediciones promedio de las implementaciones realizadas utilizando Map/Reduce**"
      ],
      "metadata": {
        "id": "GSb5RJU4vRGs"
      }
    },
    {
      "cell_type": "code",
      "source": [
        "from typing import Callable\n",
        "import time\n",
        "import imp\n",
        "import numpy as np\n",
        "from memory_profiler import memory_usage\n",
        "\n",
        "#Metodos para medir tiempo y ram a traves de varias iteraciones\n",
        "def medir_tiempo(func: Callable, n_times:int):\n",
        "  resultados = []\n",
        "  for i in range(n_times):\n",
        "    inicio = time.time()\n",
        "    func()\n",
        "    duracion = time.time() - inicio\n",
        "    resultados.append(duracion)\n",
        "  print(f\"Tiempos de Ejecución {resultados}\")\n",
        "  print(f\"En promedio tarda {round(np.mean(resultados),3)} segundos\\n\")\n",
        "  #return resultados\n",
        "\n",
        "\n",
        "def medir_memoria(func: Callable, n_times:int):\n",
        "  resultados = []\n",
        "  for i in range(n_times):\n",
        "    mem_usage_init = memory_usage()[0]\n",
        "    func()\n",
        "    uso = memory_usage()[0] - mem_usage_init\n",
        "    resultados.append(uso)\n",
        "  print(f\"Uso de Memoria Ram: {resultados}\")\n",
        "  print(f\"En promedio utiliza {round(np.mean(resultados),3)} MB de Memoria Ram\\n\")\n",
        "  #return resultados\n",
        ""
      ],
      "metadata": {
        "id": "ksThVdcUR9Ml"
      },
      "execution_count": 33,
      "outputs": []
    },
    {
      "cell_type": "code",
      "source": [
        "import q1_memory as q1\n",
        "import q2_memory as q2\n",
        "import q3_memory as q3\n",
        "import numpy as np\n",
        "\n",
        "\n",
        "[imp.reload(q) for q in [q1, q2, q3]]\n",
        "\n",
        "n_times = 10\n",
        "print(\"Implementaciones Optimizadas en Memoria\")\n",
        "print(\"-------------------------------------\")\n",
        "medir_memoria(lambda: q1.q1_memory(file_path), n_times)\n",
        "medir_memoria(lambda: q2.q2_memory(file_path), n_times)\n",
        "medir_memoria(lambda: q3.q3_memory(file_path), n_times)\n",
        "medir_tiempo(lambda: q1.q1_memory(file_path), n_times)\n",
        "medir_tiempo(lambda: q2.q2_memory(file_path), n_times)\n",
        "medir_tiempo(lambda: q3.q3_memory(file_path), n_times)"
      ],
      "metadata": {
        "colab": {
          "base_uri": "https://localhost:8080/"
        },
        "id": "OfwkAi7yWWCG",
        "outputId": "76622de6-da20-4db4-a691-278dcfe98275"
      },
      "execution_count": 34,
      "outputs": [
        {
          "output_type": "stream",
          "name": "stdout",
          "text": [
            "Implementaciones Optimizadas en Memoria\n",
            "-------------------------------------\n",
            "Uso de Memoria Ram: [0.0, 0.0, 0.0, 0.0, 0.2578125, 0.0, 0.0, 0.0, 0.0, 0.0]\n",
            "En promedio utiliza 0.026 MB de Memoria Ram\n",
            "\n",
            "Uso de Memoria Ram: [0.0, 0.0, 0.0, 0.0, 0.0, 0.0, 0.0, 0.0, 0.0, 0.0]\n",
            "En promedio utiliza 0.0 MB de Memoria Ram\n",
            "\n",
            "Uso de Memoria Ram: [0.0, 0.0, 0.0, 0.0, 0.0, 0.0, 0.0, 0.0, 0.0, 0.2578125]\n",
            "En promedio utiliza 0.026 MB de Memoria Ram\n",
            "\n",
            "Tiempos de Ejecución [7.445267200469971, 8.759393453598022, 7.48474383354187, 8.940147399902344, 7.441828727722168, 8.640992879867554, 7.765546798706055, 8.357062578201294, 8.609939575195312, 7.845982789993286]\n",
            "En promedio tarda 8.129 segundos\n",
            "\n",
            "Tiempos de Ejecución [26.589252710342407, 26.73898434638977, 24.957857847213745, 26.085360527038574, 26.751383781433105, 26.50305676460266, 25.325359582901, 28.027903079986572, 26.637978315353394, 26.59722089767456]\n",
            "En promedio tarda 26.421 segundos\n",
            "\n",
            "Tiempos de Ejecución [5.722828388214111, 7.171793699264526, 5.978295564651489, 7.004980564117432, 6.084477663040161, 5.8897926807403564, 7.036106586456299, 5.844078540802002, 7.249761581420898, 5.673144102096558]\n",
            "En promedio tarda 6.366 segundos\n",
            "\n"
          ]
        }
      ]
    },
    {
      "cell_type": "code",
      "source": [
        "import q1_time as q1\n",
        "import q2_time as q2\n",
        "import q3_time as q3\n",
        "\n",
        "[imp.reload(q) for q in [q1, q2, q3]]\n",
        "\n",
        "n_times = 10\n",
        "print(\"Implementaciones Optimizadas en Tiempo de Ejecucion\")\n",
        "print(\"-------------------------------------\")\n",
        "medir_memoria(lambda: q1.q1_time(file_path), n_times)\n",
        "medir_memoria(lambda: q2.q2_time(file_path), n_times)\n",
        "medir_memoria(lambda: q3.q3_time(file_path), n_times)\n",
        "medir_tiempo(lambda: q1.q1_time(file_path), n_times)\n",
        "medir_tiempo(lambda: q2.q2_time(file_path), n_times)\n",
        "medir_tiempo(lambda: q3.q3_time(file_path), n_times)"
      ],
      "metadata": {
        "colab": {
          "base_uri": "https://localhost:8080/"
        },
        "id": "m8QyTAR5SpLG",
        "outputId": "00117d14-e32c-4fcc-ba6f-517bf4524dc2"
      },
      "execution_count": 35,
      "outputs": [
        {
          "output_type": "stream",
          "name": "stdout",
          "text": [
            "Implementaciones Optimizadas en Tiempo de Ejecucion\n",
            "-------------------------------------\n",
            "Uso de Memoria Ram: [0.0, 0.0, 0.0, 0.0, 0.0, 0.0, 0.0, 0.0, 0.0, 0.2578125]\n",
            "En promedio utiliza 0.026 MB de Memoria Ram\n",
            "\n",
            "Uso de Memoria Ram: [0.0, 0.0, 0.0, 0.0, 0.0, 0.0, 0.0, 0.0, 0.0, 0.0]\n",
            "En promedio utiliza 0.0 MB de Memoria Ram\n",
            "\n",
            "Uso de Memoria Ram: [0.0, 0.0, 0.0, 0.0, 0.0, 0.0, 0.0, 0.0, 0.0, 0.0]\n",
            "En promedio utiliza 0.0 MB de Memoria Ram\n",
            "\n",
            "Tiempos de Ejecución [8.746244192123413, 7.473774194717407, 8.755993366241455, 7.512187242507935, 8.638125896453857, 8.164584398269653, 8.207316637039185, 8.708510160446167, 7.12178635597229, 8.866959571838379]\n",
            "En promedio tarda 8.22 segundos\n",
            "\n",
            "Tiempos de Ejecución [24.318922996520996, 26.020010232925415, 28.4870867729187, 26.14394783973694, 24.176851987838745, 26.287723064422607, 26.289777517318726, 25.901931762695312, 24.399537324905396, 26.16638422012329]\n",
            "En promedio tarda 25.819 segundos\n",
            "\n",
            "Tiempos de Ejecución [6.582658052444458, 6.558704853057861, 6.075757265090942, 7.1196935176849365, 6.562258720397949, 7.934209585189819, 5.785171985626221, 6.995339393615723, 5.975630044937134, 6.227275609970093]\n",
            "En promedio tarda 6.582 segundos\n",
            "\n"
          ]
        }
      ]
    }
  ]
}