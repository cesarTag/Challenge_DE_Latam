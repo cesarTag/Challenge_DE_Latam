{
 "cells": [
  {
   "cell_type": "markdown",
   "metadata": {
    "id": "M3TnEaim_BKC"
   },
   "source": [
    "##Challenge Data Engineer\n",
    "En este notebook se realiza el analisis exploratorio de los datos, se proponen y analizan distintas soluciones"
   ]
  },
  {
   "cell_type": "code",
   "source": [
    "!pip install memory-profiler==0.61.0 pyspark polars==1.9.0 emoji==2.14.0 findspark==2.0.1"
   ],
   "metadata": {
    "colab": {
     "base_uri": "https://localhost:8080/"
    },
    "collapsed": true,
    "id": "4G0s-xD2_eeN",
    "outputId": "e8a78555-e47f-45a1-fa54-69bffd520cbd"
   },
   "execution_count": 3,
   "outputs": [
    {
     "output_type": "stream",
     "name": "stdout",
     "text": [
      "Collecting memory-profiler==0.61.0\n",
      "  Downloading memory_profiler-0.61.0-py3-none-any.whl.metadata (20 kB)\n",
      "Requirement already satisfied: pyspark in /usr/local/lib/python3.10/dist-packages (3.5.3)\n",
      "Collecting polars==1.9.0\n",
      "  Downloading polars-1.9.0-cp38-abi3-manylinux_2_17_x86_64.manylinux2014_x86_64.whl.metadata (14 kB)\n",
      "Collecting emoji==2.14.0\n",
      "  Downloading emoji-2.14.0-py3-none-any.whl.metadata (5.7 kB)\n",
      "Collecting findspark==2.0.1\n",
      "  Downloading findspark-2.0.1-py2.py3-none-any.whl.metadata (352 bytes)\n",
      "Requirement already satisfied: psutil in /usr/local/lib/python3.10/dist-packages (from memory-profiler==0.61.0) (5.9.5)\n",
      "Requirement already satisfied: py4j==0.10.9.7 in /usr/local/lib/python3.10/dist-packages (from pyspark) (0.10.9.7)\n",
      "Downloading memory_profiler-0.61.0-py3-none-any.whl (31 kB)\n",
      "Downloading polars-1.9.0-cp38-abi3-manylinux_2_17_x86_64.manylinux2014_x86_64.whl (33.1 MB)\n",
      "\u001B[2K   \u001B[90m━━━━━━━━━━━━━━━━━━━━━━━━━━━━━━━━━━━━━━━━\u001B[0m \u001B[32m33.1/33.1 MB\u001B[0m \u001B[31m34.7 MB/s\u001B[0m eta \u001B[36m0:00:00\u001B[0m\n",
      "\u001B[?25hDownloading emoji-2.14.0-py3-none-any.whl (586 kB)\n",
      "\u001B[2K   \u001B[90m━━━━━━━━━━━━━━━━━━━━━━━━━━━━━━━━━━━━━━━━\u001B[0m \u001B[32m586.9/586.9 kB\u001B[0m \u001B[31m34.6 MB/s\u001B[0m eta \u001B[36m0:00:00\u001B[0m\n",
      "\u001B[?25hDownloading findspark-2.0.1-py2.py3-none-any.whl (4.4 kB)\n",
      "Installing collected packages: findspark, polars, memory-profiler, emoji\n",
      "  Attempting uninstall: polars\n",
      "    Found existing installation: polars 1.7.1\n",
      "    Uninstalling polars-1.7.1:\n",
      "      Successfully uninstalled polars-1.7.1\n",
      "Successfully installed emoji-2.14.0 findspark-2.0.1 memory-profiler-0.61.0 polars-1.9.0\n"
     ]
    }
   ]
  },
  {
   "cell_type": "code",
   "source": [
    "import findspark\n",
    "from pyspark.sql import SparkSession\n",
    "import zipfile\n",
    "import findspark\n",
    "import os\n",
    "from pyspark.sql.functions import desc, to_date, col, sum, rank, when, col, regexp_replace, lower\n",
    "from pyspark.sql.window import Window\n",
    "\n",
    "#carga las extensiones para el profiler\n",
    "%load_ext memory_profiler\n",
    "#set path para pyspark\n",
    "findspark.init()"
   ],
   "metadata": {
    "id": "3F1gff46Cq-n"
   },
   "execution_count": 5,
   "outputs": []
  },
  {
   "cell_type": "code",
   "source": [
    "!echo $SPARK_HOME"
   ],
   "metadata": {
    "colab": {
     "base_uri": "https://localhost:8080/"
    },
    "id": "OkoEd61g-kfW",
    "outputId": "4aed7d07-ee45-45f9-885c-9a04b6159455"
   },
   "execution_count": 3,
   "outputs": [
    {
     "output_type": "stream",
     "name": "stdout",
     "text": [
      "/usr/local/lib/python3.10/dist-packages/pyspark\n"
     ]
    }
   ]
  },
  {
   "cell_type": "code",
   "source": [
    "!curl \"https://drive.usercontent.google.com/download?id=1ig2ngoXFTxP5Pa8muXo02mDTFexZzsis&confirm=xxx\" --create-dirs -o \"data/tweets.json.zip\""
   ],
   "metadata": {
    "colab": {
     "base_uri": "https://localhost:8080/"
    },
    "id": "EbTfwVTD5zeq",
    "outputId": "c7afecde-135b-472e-fa4f-32c0af6bfe31"
   },
   "execution_count": 4,
   "outputs": [
    {
     "output_type": "stream",
     "name": "stdout",
     "text": [
      "  % Total    % Received % Xferd  Average Speed   Time    Time     Time  Current\n",
      "                                 Dload  Upload   Total   Spent    Left  Speed\n",
      "100 57.5M  100 57.5M    0     0  22.5M      0  0:00:02  0:00:02 --:--:-- 22.5M\n"
     ]
    }
   ]
  },
  {
   "cell_type": "code",
   "source": [
    "!unzip -n data/tweets.json.zip"
   ],
   "metadata": {
    "colab": {
     "base_uri": "https://localhost:8080/"
    },
    "id": "jnRv69YB6gRB",
    "outputId": "cfccbf01-1ee9-4380-98b8-b6d4ede58d0f"
   },
   "execution_count": 6,
   "outputs": [
    {
     "output_type": "stream",
     "name": "stdout",
     "text": [
      "Archive:  data/tweets.json.zip\n",
      "  inflating: farmers-protest-tweets-2021-2-4.json  \n"
     ]
    }
   ]
  },
  {
   "cell_type": "code",
   "execution_count": 7,
   "metadata": {
    "id": "r95HamEd_BKE"
   },
   "outputs": [],
   "source": [
    "file_path = \"farmers-protest-tweets-2021-2-4.json\""
   ]
  },
  {
   "cell_type": "code",
   "source": [
    "#obtener una instancia de pyspark\n",
    "def getSparkInstance(name_app=\"test_app\") -> SparkSession:\n",
    "    findspark.init()\n",
    "    spark = SparkSession.builder \\\n",
    "      .appName(name_app) \\\n",
    "      .config(\"spark.driver.memory\", \"4g\") \\\n",
    "      .config(\"spark.executor.extraJavaOptions\", \"--illegal-access=permit\") \\\n",
    "      .getOrCreate()\n",
    "    spark.sparkContext.setLogLevel(\"ERROR\")\n",
    "    return spark"
   ],
   "metadata": {
    "id": "C6zUhfAWHLNk"
   },
   "execution_count": 18,
   "outputs": []
  },
  {
   "cell_type": "code",
   "source": [
    "#crear dataframe solo con las columnas a utilizar, transformando la columna date\n",
    "#(en formato datetime) a formato date y ademas limpiando el campo username,\n",
    "#quitando espacios y transformando a minuscula para su conteo.\n",
    "try:\n",
    "  spark = getSparkInstance(name_app=\"test_app\")\n",
    "  data = spark.read.json(file_path).select('date','user.username') \\\n",
    "  .withColumn(\"date\", to_date(\"date\")) \\\n",
    "  .withColumn(\"username\", when(col(\"username\").isNotNull(), regexp_replace(lower('username'), ' ', '')).otherwise(None) )\n",
    "except (FileNotFoundError, IOError) as e:\n",
    "  print(f'Error archivo no existe en el path: {file_path}, error -> {e}')\n"
   ],
   "metadata": {
    "id": "vkJHcYF1OHjg"
   },
   "execution_count": 19,
   "outputs": []
  },
  {
   "cell_type": "code",
   "source": [
    "data.show(10)"
   ],
   "metadata": {
    "colab": {
     "base_uri": "https://localhost:8080/"
    },
    "id": "QwSX0QLcM80x",
    "outputId": "e345e993-abfc-419b-947b-d33b40d3015e"
   },
   "execution_count": 20,
   "outputs": [
    {
     "output_type": "stream",
     "name": "stdout",
     "text": [
      "+----------+---------------+\n",
      "|      date|       username|\n",
      "+----------+---------------+\n",
      "|2021-02-24|arjunsinghpanam|\n",
      "|2021-02-24|     prdeepnain|\n",
      "|2021-02-24| parmarmaninder|\n",
      "|2021-02-24|  anmoldhaliwal|\n",
      "|2021-02-24|     kotiapreet|\n",
      "|2021-02-24|      babli_708|\n",
      "|2021-02-24|varinde17354019|\n",
      "|2021-02-24|    bitnamsingh|\n",
      "|2021-02-24|  anmoldhaliwal|\n",
      "|2021-02-24|      satthiara|\n",
      "+----------+---------------+\n",
      "only showing top 10 rows\n",
      "\n"
     ]
    }
   ]
  },
  {
   "cell_type": "code",
   "source": [
    "#Get schema and datatypes of data\n",
    "data.printSchema()"
   ],
   "metadata": {
    "colab": {
     "base_uri": "https://localhost:8080/"
    },
    "id": "PV2aMq0CYE76",
    "outputId": "2ce1dfbe-f4ef-4bf8-fc34-9293f9d00ed7"
   },
   "execution_count": 21,
   "outputs": [
    {
     "output_type": "stream",
     "name": "stdout",
     "text": [
      "root\n",
      " |-- date: date (nullable = true)\n",
      " |-- username: string (nullable = true)\n",
      "\n"
     ]
    }
   ]
  },
  {
   "cell_type": "code",
   "source": [
    "#calcular y añadir a nueva columna la cantidad de tweets de cada usuario\n",
    "df_conteo_tweets = data.groupBy('date','username').count().withColumnRenamed(\"count\", \"tweets\")\n",
    "df_conteo_tweets.orderBy(desc(\"tweets\")).show(5)"
   ],
   "metadata": {
    "colab": {
     "base_uri": "https://localhost:8080/"
    },
    "id": "WafJJuobactV",
    "outputId": "e0a439ce-f7d5-4df7-a5f2-967d40760a4b"
   },
   "execution_count": 23,
   "outputs": [
    {
     "output_type": "stream",
     "name": "stdout",
     "text": [
      "+----------+---------------+------+\n",
      "|      date|       username|tweets|\n",
      "+----------+---------------+------+\n",
      "|2021-02-19|       preetm91|   267|\n",
      "|2021-02-18|neetuanjle_nitu|   195|\n",
      "|2021-02-17| raajvinderkaur|   185|\n",
      "|2021-02-13|maandee08215437|   178|\n",
      "|2021-02-12|ranbirs00614606|   176|\n",
      "+----------+---------------+------+\n",
      "only showing top 5 rows\n",
      "\n"
     ]
    }
   ]
  },
  {
   "cell_type": "code",
   "source": [
    "# Se define una ventana para obtener el usuario con más tweets por fecha\n",
    "window = Window.partitionBy('date').orderBy(col('tweets').desc())\n",
    "top_twitters_df = df_conteo_tweets.withColumn('top_twitters', rank().over(window)).filter(col('top_twitters') == 1)\n",
    "top_twitters_df.orderBy(col('date').asc(), col('top_twitters').asc()).show()"
   ],
   "metadata": {
    "colab": {
     "base_uri": "https://localhost:8080/"
    },
    "id": "pF1JILvtcKk8",
    "outputId": "94bb0053-69a5-42ed-ffee-d38cd61e3dd6"
   },
   "execution_count": 24,
   "outputs": [
    {
     "output_type": "stream",
     "name": "stdout",
     "text": [
      "+----------+---------------+------+------------+\n",
      "|      date|       username|tweets|top_twitters|\n",
      "+----------+---------------+------+------------+\n",
      "|2021-02-12|ranbirs00614606|   176|           1|\n",
      "|2021-02-13|maandee08215437|   178|           1|\n",
      "|2021-02-14|  rebelpacifist|   119|           1|\n",
      "|2021-02-15|         jot__b|   134|           1|\n",
      "|2021-02-16|         jot__b|   133|           1|\n",
      "|2021-02-17| raajvinderkaur|   185|           1|\n",
      "|2021-02-18|neetuanjle_nitu|   195|           1|\n",
      "|2021-02-19|       preetm91|   267|           1|\n",
      "|2021-02-20|mangalj23056160|   108|           1|\n",
      "|2021-02-21|     surrypuria|   161|           1|\n",
      "|2021-02-22| preetysaini321|   110|           1|\n",
      "|2021-02-23|     surrypuria|   135|           1|\n",
      "|2021-02-24| preetysaini321|   107|           1|\n",
      "+----------+---------------+------+------------+\n",
      "\n"
     ]
    }
   ]
  },
  {
   "cell_type": "code",
   "source": [
    "max_tweets_data = df_conteo_tweets.groupBy(\"date\").agg(sum(\"tweets\").alias(\"sum_tweets\"))\n",
    "max_tweets_data.orderBy(col('sum_tweets').desc()).show(100)"
   ],
   "metadata": {
    "colab": {
     "base_uri": "https://localhost:8080/"
    },
    "id": "xYAg5WeMQqQR",
    "outputId": "5194ab0f-aa1f-4a33-a717-7a21647551f8"
   },
   "execution_count": 25,
   "outputs": [
    {
     "output_type": "stream",
     "name": "stdout",
     "text": [
      "+----------+----------+\n",
      "|      date|sum_tweets|\n",
      "+----------+----------+\n",
      "|2021-02-12|     12347|\n",
      "|2021-02-13|     11296|\n",
      "|2021-02-17|     11087|\n",
      "|2021-02-16|     10443|\n",
      "|2021-02-14|     10249|\n",
      "|2021-02-18|      9625|\n",
      "|2021-02-15|      9197|\n",
      "|2021-02-20|      8502|\n",
      "|2021-02-23|      8417|\n",
      "|2021-02-19|      8204|\n",
      "|2021-02-21|      7532|\n",
      "|2021-02-22|      7071|\n",
      "|2021-02-24|      3437|\n",
      "+----------+----------+\n",
      "\n"
     ]
    }
   ]
  },
  {
   "cell_type": "code",
   "source": [
    "#join de ambas dataframes para setear el resultado solicitado\n",
    "df_final = top_twitters_df.join(max_tweets_data, \"date\", \"inner\").select('*').orderBy(col('sum_tweets').desc())\n",
    "df_final.show(100)"
   ],
   "metadata": {
    "colab": {
     "base_uri": "https://localhost:8080/"
    },
    "id": "Ngjkd9fhRKIT",
    "outputId": "1c5c7541-f64b-4b9c-e8e5-b77c7a094716"
   },
   "execution_count": 26,
   "outputs": [
    {
     "output_type": "stream",
     "name": "stdout",
     "text": [
      "+----------+---------------+------+------------+----------+\n",
      "|      date|       username|tweets|top_twitters|sum_tweets|\n",
      "+----------+---------------+------+------------+----------+\n",
      "|2021-02-12|ranbirs00614606|   176|           1|     12347|\n",
      "|2021-02-13|maandee08215437|   178|           1|     11296|\n",
      "|2021-02-17| raajvinderkaur|   185|           1|     11087|\n",
      "|2021-02-16|         jot__b|   133|           1|     10443|\n",
      "|2021-02-14|  rebelpacifist|   119|           1|     10249|\n",
      "|2021-02-18|neetuanjle_nitu|   195|           1|      9625|\n",
      "|2021-02-15|         jot__b|   134|           1|      9197|\n",
      "|2021-02-20|mangalj23056160|   108|           1|      8502|\n",
      "|2021-02-23|     surrypuria|   135|           1|      8417|\n",
      "|2021-02-19|       preetm91|   267|           1|      8204|\n",
      "|2021-02-21|     surrypuria|   161|           1|      7532|\n",
      "|2021-02-22| preetysaini321|   110|           1|      7071|\n",
      "|2021-02-24| preetysaini321|   107|           1|      3437|\n",
      "+----------+---------------+------+------------+----------+\n",
      "\n"
     ]
    }
   ]
  },
  {
   "cell_type": "code",
   "source": [
    "#al estar ordenados por la cantidad de tweets por fecha al seleccionar los primeros 10 obtenemos efectivamente el top 10 de tweets en esa fecha\n",
    "result_list = [(row['date'], row['username']) for row in df_final.limit(10).collect()]\n",
    "result_list"
   ],
   "metadata": {
    "colab": {
     "base_uri": "https://localhost:8080/"
    },
    "id": "TwZQjdUgR424",
    "outputId": "f440c7e7-c66f-4d15-e6f0-a0ddf4e8e292"
   },
   "execution_count": 27,
   "outputs": [
    {
     "output_type": "execute_result",
     "data": {
      "text/plain": [
       "[(datetime.date(2021, 2, 12), 'ranbirs00614606'),\n",
       " (datetime.date(2021, 2, 13), 'maandee08215437'),\n",
       " (datetime.date(2021, 2, 17), 'raajvinderkaur'),\n",
       " (datetime.date(2021, 2, 16), 'jot__b'),\n",
       " (datetime.date(2021, 2, 14), 'rebelpacifist'),\n",
       " (datetime.date(2021, 2, 18), 'neetuanjle_nitu'),\n",
       " (datetime.date(2021, 2, 15), 'jot__b'),\n",
       " (datetime.date(2021, 2, 20), 'mangalj23056160'),\n",
       " (datetime.date(2021, 2, 23), 'surrypuria'),\n",
       " (datetime.date(2021, 2, 19), 'preetm91')]"
      ]
     },
     "metadata": {},
     "execution_count": 27
    }
   ]
  },
  {
   "cell_type": "code",
   "source": [
    "import json\n",
    "from datetime import datetime\n",
    "from typing import List, Tuple\n",
    "from collections import Counter\n",
    "\n",
    "def q1_memory_json(file_path):\n",
    "  date_counts = Counter()\n",
    "  date_user_counts = {}\n",
    "\n",
    "  with open(file_path, 'r') as file:\n",
    "      for line in file:\n",
    "          tweet = json.loads(line)\n",
    "          date = datetime.strptime(tweet['date'][0:10], \"%Y-%m-%d\").date()\n",
    "          user = tweet['user']['username']\n",
    "          date_counts[date] += 1\n",
    "\n",
    "          if date not in date_user_counts:\n",
    "              date_user_counts[date] = Counter()\n",
    "          date_user_counts[date][user] += 1\n",
    "\n",
    "  # Top 10 fechas con mas tweets\n",
    "  top_10_dates = date_counts.most_common(10)\n",
    "\n",
    "  result = []\n",
    "  for date, _ in top_10_dates:\n",
    "      # obtiene el usuario con mas tweets por fecha\n",
    "      top_user = date_user_counts[date].most_common(1)[0][0]\n",
    "      result.append((date, top_user))\n",
    "\n",
    "  return result"
   ],
   "metadata": {
    "id": "P55yQzG5qfiV"
   },
   "execution_count": 50,
   "outputs": []
  },
  {
   "cell_type": "code",
   "source": [
    "q1_memory_json(file_path)"
   ],
   "metadata": {
    "colab": {
     "base_uri": "https://localhost:8080/"
    },
    "id": "ZERR2v2Zq9tQ",
    "outputId": "f3afe34c-3900-4450-c17d-4e84ace75368"
   },
   "execution_count": 49,
   "outputs": [
    {
     "output_type": "execute_result",
     "data": {
      "text/plain": [
       "[(datetime.date(2021, 2, 12), 'RanbirS00614606'),\n",
       " (datetime.date(2021, 2, 13), 'MaanDee08215437'),\n",
       " (datetime.date(2021, 2, 17), 'RaaJVinderkaur'),\n",
       " (datetime.date(2021, 2, 16), 'jot__b'),\n",
       " (datetime.date(2021, 2, 14), 'rebelpacifist'),\n",
       " (datetime.date(2021, 2, 18), 'neetuanjle_nitu'),\n",
       " (datetime.date(2021, 2, 15), 'jot__b'),\n",
       " (datetime.date(2021, 2, 20), 'MangalJ23056160'),\n",
       " (datetime.date(2021, 2, 23), 'Surrypuria'),\n",
       " (datetime.date(2021, 2, 19), 'Preetm91')]"
      ]
     },
     "metadata": {},
     "execution_count": 49
    }
   ]
  },
  {
   "cell_type": "code",
   "source": [
    "from collections import Counter, defaultdict\n",
    "from datetime import datetime\n",
    "import json\n",
    "from tqdm.contrib.concurrent import process_map\n",
    "\n",
    "\n",
    "# Función para procesar cada línea\n",
    "def process_line(line):\n",
    "    date_counts = Counter()\n",
    "    date_user_counts = {}\n",
    "    tweet = json.loads(line)\n",
    "    date = datetime.strptime(tweet['date'][0:10], \"%Y-%m-%d\").date()\n",
    "    user = tweet['user']['username']\n",
    "    return date, user\n",
    "\n",
    "def file_line_iterator(file_path):\n",
    "    with open(file_path, 'r') as file:\n",
    "        for line in file:\n",
    "            yield line\n",
    "\n",
    "def file_all_lines(file_path):\n",
    "    # Leer todas las líneas del archivo\n",
    "    with open(file_path, 'r') as file:\n",
    "        return file.readlines()\n",
    "\n",
    "def q1_mem_json_tqdm(file_path):\n",
    "    #conteo de tweets por fecha\n",
    "    date_counts = Counter()\n",
    "    #conteo tweets por fecha y usuario\n",
    "    date_user_counts = defaultdict(Counter)\n",
    "\n",
    "    #lines = file_all_lines(file_path)\n",
    "    lines = file_line_iterator(file_path)\n",
    "\n",
    "    # Procesar las líneas en paralelo\n",
    "    results = process_map(process_line, lines, chunksize=5000, desc=\"Procesando Lineas\")\n",
    "\n",
    "\n",
    "\n",
    "    #para cada usuario y fecha\n",
    "    for date, user in results:\n",
    "        date_counts[date] += 1\n",
    "        date_user_counts[date][user] += 1\n",
    "\n",
    "    #las 10 fechas con mas tweets\n",
    "    top_10_dates = date_counts.most_common(10)\n",
    "\n",
    "    resultado = [(date, date_user_counts[date].most_common(1)[0][0])\n",
    "                                                    for date, _ in top_10_dates]\n",
    "    #retorna el resultado ordenado por el campo date\n",
    "    return resultado\n"
   ],
   "metadata": {
    "id": "OR2Ae1KuvNOh"
   },
   "execution_count": 58,
   "outputs": []
  },
  {
   "cell_type": "code",
   "source": [
    "q1_mem_json_tqdm(file_path)"
   ],
   "metadata": {
    "colab": {
     "base_uri": "https://localhost:8080/",
     "height": 228,
     "referenced_widgets": [
      "7e465b93ec484136ab3b9b146c692745",
      "c94155920e204f52a9531f45771a1638",
      "55fcf14d42a042e68d05357d6f51958f",
      "dd2fe957000145f4a19e8e1042b83a3e",
      "06e31c98c1ed4159a1a4a563e3867d62",
      "dcd1c32320864ec1b4f5d864bd92877c",
      "1340ece94dcf49909d5415b1512c83df",
      "8b611c633bd143f2b5f5a9900485f834",
      "2cf9fae471d3426494a29929a770d05e",
      "779d231f04dc4494ae0fad877fdb7c48",
      "508103cf3e7a49eb96260d46f34d72e6"
     ]
    },
    "id": "hnPOYy__fQqk",
    "outputId": "072c5295-5175-4e1d-f215-8d074a41c5cf"
   },
   "execution_count": 59,
   "outputs": [
    {
     "output_type": "display_data",
     "data": {
      "text/plain": [
       "Procesando Lineas: 0it [00:00, ?it/s]"
      ],
      "application/vnd.jupyter.widget-view+json": {
       "version_major": 2,
       "version_minor": 0,
       "model_id": "7e465b93ec484136ab3b9b146c692745"
      }
     },
     "metadata": {}
    },
    {
     "output_type": "execute_result",
     "data": {
      "text/plain": [
       "[(datetime.date(2021, 2, 12), 'RanbirS00614606'),\n",
       " (datetime.date(2021, 2, 13), 'MaanDee08215437'),\n",
       " (datetime.date(2021, 2, 17), 'RaaJVinderkaur'),\n",
       " (datetime.date(2021, 2, 16), 'jot__b'),\n",
       " (datetime.date(2021, 2, 14), 'rebelpacifist'),\n",
       " (datetime.date(2021, 2, 18), 'neetuanjle_nitu'),\n",
       " (datetime.date(2021, 2, 15), 'jot__b'),\n",
       " (datetime.date(2021, 2, 20), 'MangalJ23056160'),\n",
       " (datetime.date(2021, 2, 23), 'Surrypuria'),\n",
       " (datetime.date(2021, 2, 19), 'Preetm91')]"
      ]
     },
     "metadata": {},
     "execution_count": 59
    }
   ]
  },
  {
   "cell_type": "code",
   "source": [
    "import polars as pl\n",
    "from typing import List, Tuple\n",
    "from datetime import date\n",
    "from memory_profiler import profile\n",
    "\n",
    "\n",
    "def q1_memory_polars(file_path: str) -> List[Tuple[date, str]]:\n",
    "    # Validar el path\n",
    "    if not file_path:\n",
    "        raise ValueError(\"El path no debe ser nulo o vacío\")\n",
    "\n",
    "    # Cargar el archivo usando Polars con ejecución lazy\n",
    "    try:\n",
    "        data = (\n",
    "            pl.read_ndjson(file_path, ignore_errors=True)\n",
    "            .lazy()\n",
    "            .select([\n",
    "                pl.col('date').str.slice(0, 10).str.strptime(pl.Date).alias('date'),\n",
    "                pl.col('user').struct.field('username')\n",
    "                    .str.to_lowercase()\n",
    "                    .str.replace_all(' ', '')\n",
    "                    .alias('username')\n",
    "            ])\n",
    "            .filter(pl.col('username').is_not_null())\n",
    "        )\n",
    "    except (FileNotFoundError, IOError) as e:\n",
    "        print(f\"Error al abrir el archivo en {file_path}: {e}\")\n",
    "        raise\n",
    "\n",
    "    # Agrupar y contar tweets por fecha y usuario\n",
    "    df_conteo_tweets = (\n",
    "        data.group_by(['date', 'username'])\n",
    "        .agg(pl.len().alias('tweets'))\n",
    "    )\n",
    "\n",
    "    # Obtener la suma total de tweets por fecha\n",
    "    sum_tweets_data = (\n",
    "        df_conteo_tweets.group_by('date')\n",
    "        .agg(pl.col('tweets').sum().alias('sum_tweets'))\n",
    "    )\n",
    "\n",
    "    # Obtener el usuario con más tweets por fecha\n",
    "    top_twitters_df = (\n",
    "        df_conteo_tweets.sort(by=['date', 'tweets'], descending=[False, True])\n",
    "        .group_by('date')\n",
    "        .first()\n",
    "    )\n",
    "\n",
    "    # Unir ambos DataFrames\n",
    "    df_final = (\n",
    "        top_twitters_df.join(sum_tweets_data, on='date')\n",
    "        .sort('sum_tweets', descending=True)\n",
    "    )\n",
    "\n",
    "    # Materializar el DataFrame y obtener los resultados como lista de tuplas\n",
    "    resultado = df_final.select(['date', 'username']).limit(10).collect().to_numpy().tolist()\n",
    "\n",
    "    return resultado\n"
   ],
   "metadata": {
    "id": "EiLgf90A5R9O"
   },
   "execution_count": 66,
   "outputs": []
  },
  {
   "cell_type": "code",
   "source": [
    "q1_memory_polars(file_path)"
   ],
   "metadata": {
    "colab": {
     "base_uri": "https://localhost:8080/"
    },
    "id": "99PB65LH8giO",
    "outputId": "8f463c10-a4e5-4273-fac3-e1adeb21a8dd"
   },
   "execution_count": 67,
   "outputs": [
    {
     "output_type": "execute_result",
     "data": {
      "text/plain": [
       "[[datetime.date(2021, 2, 12), 'ranbirs00614606'],\n",
       " [datetime.date(2021, 2, 13), 'maandee08215437'],\n",
       " [datetime.date(2021, 2, 17), 'raajvinderkaur'],\n",
       " [datetime.date(2021, 2, 16), 'jot__b'],\n",
       " [datetime.date(2021, 2, 14), 'rebelpacifist'],\n",
       " [datetime.date(2021, 2, 18), 'neetuanjle_nitu'],\n",
       " [datetime.date(2021, 2, 15), 'jot__b'],\n",
       " [datetime.date(2021, 2, 20), 'mangalj23056160'],\n",
       " [datetime.date(2021, 2, 23), 'surrypuria'],\n",
       " [datetime.date(2021, 2, 19), 'preetm91']]"
      ]
     },
     "metadata": {},
     "execution_count": 67
    }
   ]
  },
  {
   "cell_type": "markdown",
   "source": [
    "###Mediciones de memoria de las implementaciones:\n",
    "\n",
    "- **PySpark** -> Uso de Memoria: 0.0039 MiB\n",
    "- **Polars** -> Uso de Memoria: 590 MiB\n",
    "- **Json** -> Uso de Memoria: 0.00 MiB (consumo de memoria despreciable)\n",
    "- **Json_Tqdm_full_load** -> Uso de Memoria: 28.13 MiB\n",
    "- **Json_Tqdm_iterator_load** -> Uso de Memoria: 0.586 MiB\n"
   ],
   "metadata": {
    "id": "hdU3j5LaO_0U"
   }
  },
  {
   "cell_type": "markdown",
   "source": [
    "###Mediciones de tiempo de las implementaciones:\n",
    "\n",
    "- **PySpark** -> Tiempo: 15.20 s\n",
    "- **Polars** -> Tiempo: 22.74 s\n",
    "- **Json_Counter** -> Tiempo: 7.79 s\n",
    "- **Json_Tqdm_full_load** -> Tiempo: 9.10 s\n",
    "- **Json_Tqdm_iterator_load** -> Tiempo: 8.46 s"
   ],
   "metadata": {
    "id": "uiKBfYqNQCjN"
   }
  },
  {
   "cell_type": "markdown",
   "source": [
    "##Implementacion con la libreria json y usando estructuras de datos optimizadas como Counter y defaultdict, propias del entorno de Python."
   ],
   "metadata": {
    "id": "wCJXj4FksGJo"
   }
  },
  {
   "cell_type": "code",
   "source": [
    "import q1_memory_json as q1\n",
    "from memory_profiler import memory_usage\n",
    "import imp\n",
    "imp.reload(q1)\n",
    "\n",
    "mem_usage_init = memory_usage()[0]\n",
    "q1.q1_memory_json(file_path)\n",
    "mem_usage_end = memory_usage()[0]\n",
    "print(f\"Uso de Memoria Ram: {mem_usage_end - mem_usage_init} MiB\")\n"
   ],
   "metadata": {
    "colab": {
     "base_uri": "https://localhost:8080/"
    },
    "id": "02kGs9gH_QYg",
    "outputId": "fa6d0fb8-864f-498c-f4f3-79e9858ce8fb"
   },
   "execution_count": 86,
   "outputs": [
    {
     "output_type": "stream",
     "name": "stdout",
     "text": [
      "Uso de Memoria Ram: 0.0 MiB\n"
     ]
    }
   ]
  },
  {
   "cell_type": "code",
   "source": [
    "import q1_memory_json as q1\n",
    "import time\n",
    "import imp\n",
    "imp.reload(q1)\n",
    "\n",
    "time_init = time.time()\n",
    "q1.q1_memory_json(file_path)\n",
    "time_end = time.time()\n",
    "print(f\"Tiempo de ejecución: {time_end - time_init:.2f} segundos\")"
   ],
   "metadata": {
    "colab": {
     "base_uri": "https://localhost:8080/"
    },
    "id": "eEjbr3m9m_pe",
    "outputId": "17a893cd-a702-4623-c7e9-305619f8fb5a"
   },
   "execution_count": 87,
   "outputs": [
    {
     "output_type": "stream",
     "name": "stdout",
     "text": [
      "Tiempo de ejecución: 7.79 segundos\n"
     ]
    }
   ]
  },
  {
   "cell_type": "markdown",
   "source": [
    "##Implementacion con la libreria polars, seleccionada ya que posee mejor rendimiento que pandas."
   ],
   "metadata": {
    "id": "84pAkF-5r7wd"
   }
  },
  {
   "cell_type": "code",
   "source": [
    "import q1_memory_polars as q1\n",
    "from memory_profiler import memory_usage\n",
    "import imp\n",
    "imp.reload(q1)\n",
    "\n",
    "mem_usage_init = memory_usage()[0]\n",
    "q1.q1_memory_polars(file_path)\n",
    "mem_usage_end = memory_usage()[0]\n",
    "print(f\"Uso de Memoria Ram: {mem_usage_end - mem_usage_init} MiB\")"
   ],
   "metadata": {
    "colab": {
     "base_uri": "https://localhost:8080/"
    },
    "id": "lx0ARmWuEu78",
    "outputId": "bf8ef791-89b2-4662-ae64-a3f556b21359"
   },
   "execution_count": 89,
   "outputs": [
    {
     "output_type": "stream",
     "name": "stdout",
     "text": [
      "Uso de Memoria Ram: 589.5078125 MiB\n"
     ]
    }
   ]
  },
  {
   "cell_type": "code",
   "source": [
    "import q1_memory_polars as q1\n",
    "import time\n",
    "import imp\n",
    "imp.reload(q1)\n",
    "\n",
    "time_init = time.time()\n",
    "q1.q1_memory_polars(file_path)\n",
    "time_end = time.time()\n",
    "print(f\"Tiempo de ejecución: {time_end - time_init:.2f} segundos\")"
   ],
   "metadata": {
    "colab": {
     "base_uri": "https://localhost:8080/"
    },
    "id": "rRnm-A0BE1Rp",
    "outputId": "05dd6ab2-3d70-477a-a9d7-3b04c9e69dd6"
   },
   "execution_count": 90,
   "outputs": [
    {
     "output_type": "stream",
     "name": "stdout",
     "text": [
      "Tiempo de ejecución: 22.74 segundos\n"
     ]
    }
   ]
  },
  {
   "cell_type": "markdown",
   "source": [
    "##Implementacion con Spark mediante pyspark para procesar datos de forma distribuida."
   ],
   "metadata": {
    "id": "PBbkbHWbrgf0"
   }
  },
  {
   "cell_type": "code",
   "source": [
    "import q1_memory_pyspark as q1\n",
    "from memory_profiler import memory_usage\n",
    "import imp\n",
    "imp.reload(q1)\n",
    "\n",
    "mem_usage_init = memory_usage()[0]\n",
    "q1.q1_memory_pyspark(file_path)\n",
    "mem_usage_end = memory_usage()[0]\n",
    "print(f\"Uso de Memoria Ram: {mem_usage_end - mem_usage_init} MiB\")"
   ],
   "metadata": {
    "colab": {
     "base_uri": "https://localhost:8080/"
    },
    "id": "sPLyPlMg_WzI",
    "outputId": "bf2346fa-4dfd-404a-b75a-7448238a9c4f"
   },
   "execution_count": 91,
   "outputs": [
    {
     "output_type": "stream",
     "name": "stdout",
     "text": [
      "Uso de Memoria Ram: 0.00390625 MiB\n"
     ]
    }
   ]
  },
  {
   "cell_type": "code",
   "source": [
    "import q1_memory_pyspark as q1\n",
    "import time\n",
    "import imp\n",
    "imp.reload(q1)\n",
    "\n",
    "time_init = time.time()\n",
    "q1.q1_memory_pyspark(file_path)\n",
    "time_end = time.time()\n",
    "print(f\"Tiempo de ejecución: {time_end - time_init:.2f} segundos\")"
   ],
   "metadata": {
    "colab": {
     "base_uri": "https://localhost:8080/"
    },
    "id": "IgdcnRf_FKa0",
    "outputId": "8a478f2d-097e-4bba-9290-5786b9c853cf"
   },
   "execution_count": 92,
   "outputs": [
    {
     "output_type": "stream",
     "name": "stdout",
     "text": [
      "Tiempo de ejecución: 15.20 segundos\n"
     ]
    }
   ]
  },
  {
   "cell_type": "markdown",
   "source": [
    "##Implementacion con la libreria TQDM para procesos concurrentes, se añaden dos formas de carga de datos, la primera es leer el archivo completo y la otra es leerlo mediante un iterador."
   ],
   "metadata": {
    "id": "pBxZyZNxqm_q"
   }
  },
  {
   "cell_type": "code",
   "source": [
    "import q1_memory_tqdm as q1\n",
    "imp.reload(q1)\n",
    "\n",
    "mem_usage_init = memory_usage()[0]\n",
    "q1.q1_memory_tqdm(file_path, load_file='full')\n",
    "mem_usage_end = memory_usage()[0]\n",
    "print(f\"Uso de Memoria Ram: {mem_usage_end - mem_usage_init} MiB\")"
   ],
   "metadata": {
    "colab": {
     "base_uri": "https://localhost:8080/",
     "height": 67,
     "referenced_widgets": [
      "2eaaf4a04b6d4eeb866339c1287ae47d",
      "502241d7c2994fecac5609241ac1d779",
      "77d1d356675d4277a250d7a00de34076",
      "81049e42a02e4443b4f00ef61d737965",
      "4ad6a3a95ce54219ae617a8a89debd61",
      "1012971ba9454db29f6e56668c98fe89",
      "2b0cac0b7b7244d1a67d4abead727225",
      "3c875a14fa764ab5b2ee49f34ec94d0d",
      "61a4f09ea06049ba902f78bc9828093b",
      "44def2dbc6744e28a3a41f14b1cffcbb",
      "4a054cba5a774a8ab217690a857514b7"
     ]
    },
    "id": "X4JkonfhqhtR",
    "outputId": "9d7229a3-71d2-4ce0-b307-c3b29614ca67"
   },
   "execution_count": 96,
   "outputs": [
    {
     "output_type": "display_data",
     "data": {
      "text/plain": [
       "Procesando Lineas:   0%|          | 0/117407 [00:00<?, ?it/s]"
      ],
      "application/vnd.jupyter.widget-view+json": {
       "version_major": 2,
       "version_minor": 0,
       "model_id": "2eaaf4a04b6d4eeb866339c1287ae47d"
      }
     },
     "metadata": {}
    },
    {
     "output_type": "stream",
     "name": "stdout",
     "text": [
      "Uso de Memoria Ram: 28.1328125 MiB\n"
     ]
    }
   ]
  },
  {
   "cell_type": "code",
   "source": [
    "import q1_memory_tqdm as q1\n",
    "imp.reload(q1)\n",
    "\n",
    "mem_usage_init = memory_usage()[0]\n",
    "q1.q1_memory_tqdm(file_path, load_file='iterator')\n",
    "mem_usage_end = memory_usage()[0]\n",
    "print(f\"Uso de Memoria Ram: {mem_usage_end - mem_usage_init} MiB\")"
   ],
   "metadata": {
    "colab": {
     "base_uri": "https://localhost:8080/",
     "height": 67,
     "referenced_widgets": [
      "a9cba8433cc64f62ac5124d25fc83408",
      "dd64596674d14762bcd6c1a721985fd5",
      "b131c4fce4ff4bbf8a909df83119cda4",
      "ac87132f5c7446a78c8cd6f61954e9cb",
      "252fd5a1d3544c2b8c031d5da3c98b33",
      "cfb1182c30bc4e728ac731c8b1eaee21",
      "c55daef7efb04aaa99ed4163f09ab32f",
      "33bec908b8c54fb78da6135503622afa",
      "67bed39eb72e4641b4cb86ba225935c9",
      "19bad46e169f4b119b8a66e7b414d0dd",
      "4d8c5dc406d648e2abaa2f4f37afdeec"
     ]
    },
    "id": "76-dEjOmurjy",
    "outputId": "df4cb1c5-2364-447b-dac8-c849ba528beb"
   },
   "execution_count": 99,
   "outputs": [
    {
     "output_type": "display_data",
     "data": {
      "text/plain": [
       "Procesando Lineas: 0it [00:00, ?it/s]"
      ],
      "application/vnd.jupyter.widget-view+json": {
       "version_major": 2,
       "version_minor": 0,
       "model_id": "a9cba8433cc64f62ac5124d25fc83408"
      }
     },
     "metadata": {}
    },
    {
     "output_type": "stream",
     "name": "stdout",
     "text": [
      "Uso de Memoria Ram: 0.5859375 MiB\n"
     ]
    }
   ]
  },
  {
   "cell_type": "code",
   "source": [
    "import q1_memory_tqdm as q1\n",
    "imp.reload(q1)\n",
    "\n",
    "time_init = time.time()\n",
    "q1.q1_memory_tqdm(file_path, load_file='full')\n",
    "time_end = time.time()\n",
    "print(f\"Tiempo de ejecución: {time_end - time_init:.2f} segundos\")"
   ],
   "metadata": {
    "colab": {
     "base_uri": "https://localhost:8080/",
     "height": 67,
     "referenced_widgets": [
      "079a1fd4aaba450ab4e45d26143a38f8",
      "6494c4d9f59140eaaef21cfd87a7d0a7",
      "9996e43dbd3d429e831c98f864b27c43",
      "e4d7dadaae4a4f96b368cf94f52520e2",
      "9c711df9cfa0406ba9757417fa338d17",
      "25e65c67f06b4b87a5fdaa9925e5e970",
      "d79f0667cd304150adcfcc62460501dc",
      "b665858d027d4d1ca6812288c1f63468",
      "35afceb87b9c47058a16c6ee70d4f10f",
      "b7bbc0e74c614d34a5c16af194e5aa20",
      "612081c2f6314395882aef684e5b8295"
     ]
    },
    "id": "d2IqAsZpFQVw",
    "outputId": "ded6940f-193c-4ae6-f9fa-7f30baa167e5"
   },
   "execution_count": 104,
   "outputs": [
    {
     "output_type": "display_data",
     "data": {
      "text/plain": [
       "Procesando Lineas:   0%|          | 0/117407 [00:00<?, ?it/s]"
      ],
      "application/vnd.jupyter.widget-view+json": {
       "version_major": 2,
       "version_minor": 0,
       "model_id": "079a1fd4aaba450ab4e45d26143a38f8"
      }
     },
     "metadata": {}
    },
    {
     "output_type": "stream",
     "name": "stdout",
     "text": [
      "Tiempo de ejecución: 9.10 segundos\n"
     ]
    }
   ]
  },
  {
   "cell_type": "code",
   "source": [
    "import q1_memory_tqdm as q1\n",
    "imp.reload(q1)\n",
    "\n",
    "time_init = time.time()\n",
    "q1.q1_memory_tqdm(file_path, load_file='iterator')\n",
    "time_end = time.time()\n",
    "print(f\"Tiempo de ejecución: {time_end - time_init:.2f} segundos\")"
   ],
   "metadata": {
    "colab": {
     "base_uri": "https://localhost:8080/",
     "height": 67,
     "referenced_widgets": [
      "4778b459bed04a35a567ee4ebb4107ad",
      "6a90e703e2884355a0caba6f8942aca8",
      "dadc252ffaf74e56800b0a180068a958",
      "ee7dfa59db6a474ca447723dc5c354a4",
      "81588d75afff44b0b227f6e28d454481",
      "7d9b4c35ba53416796509e2765a6bb34",
      "e8617f97a0dd4d16a98a6c6688422cd5",
      "5189d38c0c1f46b9905ec1cc460d4a74",
      "236e05ab943b429b91d8b16f462f54e7",
      "2fa66d50b1524160a50d2eeec8f08db8",
      "f875241998ea45f78b06d3c11a5a5a73"
     ]
    },
    "id": "N5VZpidOvZkP",
    "outputId": "5203a834-288e-4375-bf7d-528ee6f61276"
   },
   "execution_count": 106,
   "outputs": [
    {
     "output_type": "display_data",
     "data": {
      "text/plain": [
       "Procesando Lineas: 0it [00:00, ?it/s]"
      ],
      "application/vnd.jupyter.widget-view+json": {
       "version_major": 2,
       "version_minor": 0,
       "model_id": "4778b459bed04a35a567ee4ebb4107ad"
      }
     },
     "metadata": {}
    },
    {
     "output_type": "stream",
     "name": "stdout",
     "text": [
      "Tiempo de ejecución: 8.46 segundos\n"
     ]
    }
   ]
  },
  {
   "cell_type": "markdown",
   "source": [
    "##Implementacion Optimizada en Memoria\n",
    "- Usa un generador para procesar las líneas del archivo, evitando cargar todo en memoria.\n",
    "- Es más lento debido a la lectura línea por línea, pero ideal para archivos grandes."
   ],
   "metadata": {
    "id": "hA6fvchfX6L1"
   }
  },
  {
   "cell_type": "code",
   "source": [
    "import json\n",
    "import logging\n",
    "from datetime import datetime\n",
    "from typing import List, Tuple\n",
    "from collections import Counter, defaultdict\n",
    "\n",
    "# Configuración del logger\n",
    "logging.basicConfig(level=logging.INFO, format='%(asctime)s - %(levelname)s - %(message)s')\n",
    "logger = logging.getLogger(__name__)\n",
    "\n",
    "def q1_memory(file_path: str) -> List[Tuple[datetime.date, str]]:\n",
    "    \"\"\"\n",
    "    Procesa un archivo NDJSON línea por línea, contando la cantidad de tweets por fecha\n",
    "    y por usuario, optimizando el uso de memoria con generadores.\n",
    "\n",
    "    Args:\n",
    "        file_path (str): Ruta del archivo NDJSON.\n",
    "\n",
    "    Returns:\n",
    "        List[Tuple[datetime.date, str]]: Lista de las 10 fechas con más tweets\n",
    "        y el usuario más activo en cada una.\n",
    "    \"\"\"\n",
    "    if not file_path:\n",
    "        logger.error(\"El path no debe ser nulo o vacío.\")\n",
    "        raise ValueError(\"El path no debe ser nulo o vacío.\")\n",
    "\n",
    "    date_counts = Counter()\n",
    "    date_user_counts = defaultdict(Counter)\n",
    "\n",
    "    # Generador que procesa las líneas del archivo para minimizar el uso de memoria\n",
    "    def tweet_generator(file):\n",
    "        try:\n",
    "            for line in file:\n",
    "                yield json.loads(line)\n",
    "        except json.JSONDecodeError as e:\n",
    "            logger.error(f\"Error al decodificar JSON: {e}\")\n",
    "            raise\n",
    "\n",
    "    try:\n",
    "        with open(file_path, 'r') as file:\n",
    "            for tweet in tweet_generator(file):\n",
    "                # Extracción de datos\n",
    "                date = datetime.strptime(tweet['date'][0:10], \"%Y-%m-%d\").date()\n",
    "                user = tweet['user']['username']\n",
    "\n",
    "                # Actualización de contadores\n",
    "                date_counts[date] += 1\n",
    "                date_user_counts[date][user] += 1\n",
    "\n",
    "        # Obtener las 10 fechas con más tweets\n",
    "        top_10_dates = date_counts.most_common(10)\n",
    "\n",
    "        # Construcción del resultado con list comprehension\n",
    "        result = [\n",
    "            (date, date_user_counts[date].most_common(1)[0][0])\n",
    "            for date, _ in top_10_dates\n",
    "        ]\n",
    "\n",
    "        return result\n",
    "\n",
    "    except (FileNotFoundError, IOError) as e:\n",
    "        logger.error(f\"Error al abrir el archivo: {e}\")\n",
    "        raise\n"
   ],
   "metadata": {
    "id": "r5WqW6O5SR_r"
   },
   "execution_count": 30,
   "outputs": []
  },
  {
   "cell_type": "code",
   "source": [
    "%memit q1_memory(file_path)"
   ],
   "metadata": {
    "colab": {
     "base_uri": "https://localhost:8080/"
    },
    "id": "KqVXNpxBS_MH",
    "outputId": "004794db-a294-4b0d-dca6-d4b6ee7c7ae7"
   },
   "execution_count": 28,
   "outputs": [
    {
     "output_type": "stream",
     "name": "stdout",
     "text": [
      "peak memory: 268.64 MiB, increment: 0.01 MiB\n"
     ]
    }
   ]
  },
  {
   "cell_type": "code",
   "source": [
    "%time q1_memory(file_path)"
   ],
   "metadata": {
    "colab": {
     "base_uri": "https://localhost:8080/"
    },
    "id": "n9fti_cbTNde",
    "outputId": "ee816c7b-92a1-478d-aacc-ebae5bbe8c4b"
   },
   "execution_count": 31,
   "outputs": [
    {
     "output_type": "stream",
     "name": "stdout",
     "text": [
      "CPU times: user 8.43 s, sys: 305 ms, total: 8.74 s\n",
      "Wall time: 8.73 s\n"
     ]
    },
    {
     "output_type": "execute_result",
     "data": {
      "text/plain": [
       "[(datetime.date(2021, 2, 12), 'RanbirS00614606'),\n",
       " (datetime.date(2021, 2, 13), 'MaanDee08215437'),\n",
       " (datetime.date(2021, 2, 17), 'RaaJVinderkaur'),\n",
       " (datetime.date(2021, 2, 16), 'jot__b'),\n",
       " (datetime.date(2021, 2, 14), 'rebelpacifist'),\n",
       " (datetime.date(2021, 2, 18), 'neetuanjle_nitu'),\n",
       " (datetime.date(2021, 2, 15), 'jot__b'),\n",
       " (datetime.date(2021, 2, 20), 'MangalJ23056160'),\n",
       " (datetime.date(2021, 2, 23), 'Surrypuria'),\n",
       " (datetime.date(2021, 2, 19), 'Preetm91')]"
      ]
     },
     "metadata": {},
     "execution_count": 31
    }
   ]
  },
  {
   "cell_type": "markdown",
   "source": [
    "##Optimización en tiempo (uso de max y defaultdict):\n",
    "\n",
    "- Evita la sobrecarga del método most_common(1) usando max en su lugar, lo que se traduce en la reduccion del tiempo de ejecución.\n",
    "- Usa defaultdict(lambda: defaultdict(int)) para evitar la creación repetida de objetos Counter."
   ],
   "metadata": {
    "id": "b4wjpAIBZOwS"
   }
  },
  {
   "cell_type": "code",
   "source": [
    "import json\n",
    "import logging\n",
    "from datetime import datetime\n",
    "from typing import List, Tuple\n",
    "from collections import defaultdict, Counter\n",
    "\n",
    "# Configuración del logger\n",
    "logging.basicConfig(level=logging.INFO, format='%(asctime)s - %(levelname)s - %(message)s')\n",
    "logger = logging.getLogger(__name__)\n",
    "\n",
    "def q1_time(file_path: str) -> List[Tuple[datetime.date, str]]:\n",
    "    \"\"\"\n",
    "    Procesa un archivo NDJSON línea por línea, contando la cantidad de tweets por fecha\n",
    "    y usuario, optimizando el tiempo de ejecución.\n",
    "\n",
    "    Args:\n",
    "        file_path (str): Ruta del archivo NDJSON.\n",
    "\n",
    "    Returns:\n",
    "        List[Tuple[datetime.date, str]]: Lista de las 10 fechas con más tweets\n",
    "        y el usuario más activo en cada una.\n",
    "    \"\"\"\n",
    "    if not file_path:\n",
    "        logger.error(\"El path no debe ser nulo o vacío.\")\n",
    "        raise ValueError(\"El path no debe ser nulo o vacío.\")\n",
    "\n",
    "    # Contadores optimizados con defaultdict\n",
    "    date_counts = Counter()\n",
    "    date_user_counts = defaultdict(lambda: defaultdict(int))\n",
    "\n",
    "    try:\n",
    "        with open(file_path, 'r') as file:\n",
    "            for line in file:\n",
    "                try:\n",
    "                    tweet = json.loads(line)\n",
    "                except json.JSONDecodeError as e:\n",
    "                    logger.warning(f\"Error al decodificar JSON en una línea: {e}\")\n",
    "                    continue  # Ignorar líneas mal formadas y continuar\n",
    "\n",
    "                # Extracción de datos\n",
    "                date = datetime.strptime(tweet['date'][0:10], \"%Y-%m-%d\").date()\n",
    "                user = tweet['user']['username']\n",
    "\n",
    "                # Actualización de contadores\n",
    "                date_counts[date] += 1\n",
    "                date_user_counts[date][user] += 1\n",
    "\n",
    "        # Obtener las 10 fechas con más tweets de manera eficiente\n",
    "        top_10_dates = date_counts.most_common(10)\n",
    "\n",
    "        # Construcción del resultado con un bucle optimizado\n",
    "        result = []\n",
    "        for date, _ in top_10_dates:\n",
    "            # Uso de max para encontrar el usuario con más tweets en la fecha\n",
    "            top_user = max(date_user_counts[date].items(), key=lambda x: x[1])[0]\n",
    "            result.append((date, top_user))\n",
    "\n",
    "        return result\n",
    "\n",
    "    except (FileNotFoundError, IOError) as e:\n",
    "        logger.error(f\"Error al abrir el archivo: {e}\")\n",
    "        raise\n"
   ],
   "metadata": {
    "id": "eySSYI0vTaGT"
   },
   "execution_count": 33,
   "outputs": []
  },
  {
   "cell_type": "code",
   "source": [
    "%memit q1_time(file_path)"
   ],
   "metadata": {
    "colab": {
     "base_uri": "https://localhost:8080/"
    },
    "id": "56mS787iTdNL",
    "outputId": "5d721358-1ce4-475f-cdd8-0e208079a736"
   },
   "execution_count": 34,
   "outputs": [
    {
     "output_type": "stream",
     "name": "stdout",
     "text": [
      "peak memory: 270.67 MiB, increment: 0.26 MiB\n"
     ]
    }
   ]
  },
  {
   "cell_type": "code",
   "source": [
    "%time q1_time(file_path)"
   ],
   "metadata": {
    "colab": {
     "base_uri": "https://localhost:8080/"
    },
    "id": "O81zPZ4XTmsj",
    "outputId": "5fc33438-7995-41bf-d787-683ad7818b03"
   },
   "execution_count": 35,
   "outputs": [
    {
     "output_type": "stream",
     "name": "stdout",
     "text": [
      "CPU times: user 8.14 s, sys: 323 ms, total: 8.46 s\n",
      "Wall time: 8.42 s\n"
     ]
    },
    {
     "output_type": "execute_result",
     "data": {
      "text/plain": [
       "[(datetime.date(2021, 2, 12), 'RanbirS00614606'),\n",
       " (datetime.date(2021, 2, 13), 'MaanDee08215437'),\n",
       " (datetime.date(2021, 2, 17), 'RaaJVinderkaur'),\n",
       " (datetime.date(2021, 2, 16), 'jot__b'),\n",
       " (datetime.date(2021, 2, 14), 'rebelpacifist'),\n",
       " (datetime.date(2021, 2, 18), 'neetuanjle_nitu'),\n",
       " (datetime.date(2021, 2, 15), 'jot__b'),\n",
       " (datetime.date(2021, 2, 20), 'MangalJ23056160'),\n",
       " (datetime.date(2021, 2, 23), 'Surrypuria'),\n",
       " (datetime.date(2021, 2, 19), 'Preetm91')]"
      ]
     },
     "metadata": {},
     "execution_count": 35
    }
   ]
  },
  {
   "cell_type": "markdown",
   "source": [
    "##Q2 Optimizacion en Memoria\n",
    "\n",
    "- Procesamiento línea por línea:\n",
    "Evita cargar todo el archivo en memoria a la vez, lo que es útil para archivos muy grandes.\n",
    "- Uso eficiente del Counter:\n",
    "El Counter se actualiza de forma incremental sin mantener listas intermedias en memoria.\n",
    "\n",
    "- Manejo de errores sin interrupciones:\n",
    "Si una línea tiene un error de formato, se registra y el proceso continúa, evitando cuellos de botella."
   ],
   "metadata": {
    "id": "E_n_wzRYyN72"
   }
  },
  {
   "cell_type": "code",
   "source": [
    "import json\n",
    "import logging\n",
    "from collections import Counter\n",
    "from typing import List, Tuple\n",
    "import emoji  # Asegúrate de tener instalada la librería emoji: pip install emoji\n",
    "\n",
    "# Configuración del logger\n",
    "logging.basicConfig(level=logging.INFO, format='%(asctime)s - %(levelname)s - %(message)s')\n",
    "logger = logging.getLogger(__name__)\n",
    "\n",
    "def q2_memory(file_path: str) -> List[Tuple[str, int]]:\n",
    "    \"\"\"\n",
    "    Procesa un archivo NDJSON en streaming para contar las ocurrencias de emojis\n",
    "    en los tweets, optimizando el uso de memoria.\n",
    "\n",
    "    Args:\n",
    "        file_path (str): Ruta del archivo NDJSON.\n",
    "\n",
    "    Returns:\n",
    "        List[Tuple[str, int]]: Lista de los 10 emojis más comunes con sus frecuencias.\n",
    "    \"\"\"\n",
    "    # Inicializar un contador para los emojis\n",
    "    emojis = Counter()\n",
    "\n",
    "    try:\n",
    "        # Procesar el archivo línea por línea para minimizar el uso de memoria\n",
    "        with open(file_path, 'r') as file:\n",
    "            for line in file:\n",
    "                try:\n",
    "                    # Decodificar cada línea del archivo como JSON\n",
    "                    tweet = json.loads(line)\n",
    "                except json.JSONDecodeError as e:\n",
    "                    # Registrar el error y continuar con la siguiente línea\n",
    "                    logger.warning(f\"Error al decodificar JSON: {e}\")\n",
    "                    continue\n",
    "\n",
    "                # Extraer el contenido del tweet y buscar emojis\n",
    "                content = tweet.get('content', '')\n",
    "                emojis_ = emoji.emoji_list(content)\n",
    "\n",
    "                # Actualizar el contador solo si se encuentran emojis\n",
    "                if emojis_:\n",
    "                    emojis.update(emo['emoji'] for emo in emojis_)\n",
    "\n",
    "    except (FileNotFoundError, IOError) as e:\n",
    "        # Registrar error si el archivo no se encuentra o no se puede abrir\n",
    "        logger.error(f\"Error al abrir el archivo: {e}\")\n",
    "        raise\n",
    "\n",
    "    # Devolver los 10 emojis más comunes\n",
    "    return emojis.most_common(10)"
   ],
   "metadata": {
    "id": "lFUgv4B_vsgl"
   },
   "execution_count": 85,
   "outputs": []
  },
  {
   "cell_type": "markdown",
   "source": [
    "##Q2 Optimización del Tiempo de Ejecución\n",
    "\n",
    "- Uso de Generadores para Evitar Acumulación de Datos:\n",
    "En lugar de almacenar todas las líneas o tweets en memoria, usamos generadores.\n",
    "Esto reduce la sobrecarga de acceso a memoria y acelera la ejecución.\n",
    "\n",
    "- Actualización Directa del Counter:\n",
    "Actualizamos el Counter solo si hay emojis presentes, evitando operaciones innecesarias:\n",
    "\n",
    "- Acceso Mínimo a Estructuras:\n",
    "Evitamos múltiples accesos a los diccionarios JSON y objetos innecesarios, mejorando la velocidad.\n",
    "\n",
    "- Manejo Eficiente de Errores:\n",
    "Si se encuentra un error en una línea JSON, lo reportamos y continuamos la ejecución sin interrupciones."
   ],
   "metadata": {
    "id": "tSO6ZYdEyMfT"
   }
  },
  {
   "cell_type": "code",
   "source": [
    "import json\n",
    "import logging\n",
    "from collections import Counter\n",
    "from typing import List, Tuple\n",
    "import emoji\n",
    "\n",
    "# Configuración del logger\n",
    "logging.basicConfig(level=logging.INFO, format='%(asctime)s - %(levelname)s - %(message)s')\n",
    "logger = logging.getLogger(__name__)\n",
    "\n",
    "def q2_time(file_path: str) -> List[Tuple[str, int]]:\n",
    "    \"\"\"\n",
    "    Procesa un archivo NDJSON para contar las ocurrencias de emojis en los tweets,\n",
    "    optimizando el tiempo de ejecución.\n",
    "\n",
    "    Args:\n",
    "        file_path (str): Ruta del archivo NDJSON.\n",
    "\n",
    "    Returns:\n",
    "        List[Tuple[str, int]]: Lista de los 10 emojis más comunes con sus frecuencias.\n",
    "    \"\"\"\n",
    "    # Inicializar el contador de emojis\n",
    "    emojis = Counter()\n",
    "\n",
    "    try:\n",
    "        # Abrir el archivo en modo lectura\n",
    "        with open(file_path, 'r') as file:\n",
    "            # Generador para extraer el contenido de cada tweet\n",
    "            tweets = (json.loads(line).get('content', '') for line in file)\n",
    "\n",
    "            # Extraer emojis y actualizar el contador en un solo paso\n",
    "            for content in tweets:\n",
    "                try:\n",
    "                    emojis_ = emoji.emoji_list(content)\n",
    "                    if emojis_:\n",
    "                        emojis.update(emo['emoji'] for emo in emojis_)\n",
    "                except Exception as e:\n",
    "                    # Registrar cualquier error inesperado\n",
    "                    logger.warning(f\"Error al procesar emojis: {e}\")\n",
    "\n",
    "    except (FileNotFoundError, IOError) as e:\n",
    "        # Registrar error si no se puede abrir el archivo\n",
    "        logger.error(f\"Error al abrir el archivo: {e}\")\n",
    "        raise\n",
    "\n",
    "    # Obtener los 10 emojis más comunes\n",
    "    return emojis.most_common(10)\n"
   ],
   "metadata": {
    "id": "1rp80TeRm1t0"
   },
   "execution_count": 30,
   "outputs": []
  },
  {
   "cell_type": "code",
   "source": [
    "%time q2_time(file_path)"
   ],
   "metadata": {
    "colab": {
     "base_uri": "https://localhost:8080/"
    },
    "id": "sOfGcGU8tVxl",
    "outputId": "00757a46-486b-4e7f-da57-315e0ece3b5e"
   },
   "execution_count": 31,
   "outputs": [
    {
     "output_type": "stream",
     "name": "stdout",
     "text": [
      "CPU times: user 26.3 s, sys: 457 ms, total: 26.7 s\n",
      "Wall time: 27.5 s\n"
     ]
    },
    {
     "output_type": "execute_result",
     "data": {
      "text/plain": [
       "[('🙏', 5049),\n",
       " ('😂', 3072),\n",
       " ('🚜', 2972),\n",
       " ('🌾', 2182),\n",
       " ('🇮🇳', 2086),\n",
       " ('🤣', 1668),\n",
       " ('✊', 1651),\n",
       " ('❤️', 1382),\n",
       " ('🙏🏻', 1317),\n",
       " ('💚', 1040)]"
      ]
     },
     "metadata": {},
     "execution_count": 31
    }
   ]
  },
  {
   "cell_type": "code",
   "source": [
    "%time q2_memory(file_path)"
   ],
   "metadata": {
    "colab": {
     "base_uri": "https://localhost:8080/",
     "height": 126
    },
    "id": "4SD8j6g8tddX",
    "outputId": "1ac7f69f-6bdd-40e1-8972-c2844c3c1065"
   },
   "execution_count": 32,
   "outputs": [
    {
     "output_type": "error",
     "ename": "NameError",
     "evalue": "name 'q2_memory' is not defined",
     "traceback": [
      "\u001B[0;31m---------------------------------------------------------------------------\u001B[0m",
      "\u001B[0;31mNameError\u001B[0m                                 Traceback (most recent call last)",
      "\u001B[0;32m<timed eval>\u001B[0m in \u001B[0;36m<module>\u001B[0;34m\u001B[0m\n",
      "\u001B[0;31mNameError\u001B[0m: name 'q2_memory' is not defined"
     ]
    }
   ]
  },
  {
   "cell_type": "markdown",
   "source": [
    "##Q3 Optimizada en Memoria\n",
    "\n",
    "- Procesar el archivo línea por línea.\n",
    "- Actualizar el contador de menciones de forma incremental.\n",
    "- Usar logger para registrar errores y el progreso del programa."
   ],
   "metadata": {
    "id": "cjB_7MdsjTK4"
   }
  },
  {
   "cell_type": "code",
   "source": [
    "import re\n",
    "import json\n",
    "import logging\n",
    "from collections import Counter\n",
    "from typing import List, Tuple\n",
    "\n",
    "# Configuración del logger\n",
    "logging.basicConfig(level=logging.INFO, format='%(asctime)s - %(levelname)s - %(message)s')\n",
    "logger = logging.getLogger(__name__)\n",
    "\n",
    "def q3_memory(file_path: str) -> List[Tuple[str, int]]:\n",
    "    \"\"\"\n",
    "    Procesa un archivo NDJSON para contar las menciones de usuarios en los tweets,\n",
    "    optimizando el uso de memoria.\n",
    "\n",
    "    Args:\n",
    "        file_path (str): Ruta del archivo NDJSON.\n",
    "\n",
    "    Returns:\n",
    "        List[Tuple[str, int]]: Lista de los 10 usuarios más mencionados con sus frecuencias.\n",
    "    \"\"\"\n",
    "    # Compilar la expresión regular para encontrar menciones (@usuario)\n",
    "    username_pattern = re.compile(r'@(\\w+)')\n",
    "\n",
    "    # Inicializar el contador para los nombres de usuario\n",
    "    mention_counter = Counter()\n",
    "\n",
    "    try:\n",
    "        # Abrir el archivo y procesar línea por línea (minimiza uso de memoria)\n",
    "        with open(file_path, 'r') as tweet_file:\n",
    "            for tweet_json in tweet_file:\n",
    "                try:\n",
    "                    # Parsear la línea como JSON\n",
    "                    tweet_data = json.loads(tweet_json.strip())\n",
    "                except json.JSONDecodeError as e:\n",
    "                    # Registrar advertencia y continuar con la siguiente línea\n",
    "                    logger.warning(f\"Error al decodificar JSON: {e}\")\n",
    "                    continue\n",
    "\n",
    "                # Extraer el contenido del tweet si está disponible\n",
    "                tweet_content = tweet_data.get('content', '')\n",
    "\n",
    "                # Encontrar todas las menciones de usuario en el contenido\n",
    "                mentioned_users = username_pattern.findall(tweet_content)\n",
    "\n",
    "                # Actualizar el contador solo si hay menciones\n",
    "                if mentioned_users:\n",
    "                    mention_counter.update(mentioned_users)\n",
    "\n",
    "    except (FileNotFoundError, IOError) as e:\n",
    "        # Registrar error si el archivo no se encuentra o no se puede abrir\n",
    "        logger.error(f\"Error al abrir el archivo: {e}\")\n",
    "        raise\n",
    "\n",
    "    # Obtener los 10 usuarios más mencionados\n",
    "    top_mentioned_users = mention_counter.most_common(10)\n",
    "\n",
    "    # Registrar los usuarios más mencionados\n",
    "    logger.info(f\"Top 10 usuarios mencionados: {top_mentioned_users}\")\n",
    "\n",
    "    return top_mentioned_users\n"
   ],
   "metadata": {
    "id": "RZSCo3jG12rh"
   },
   "execution_count": 19,
   "outputs": []
  },
  {
   "cell_type": "code",
   "source": [
    "q3_memory(file_path)"
   ],
   "metadata": {
    "colab": {
     "base_uri": "https://localhost:8080/"
    },
    "id": "7NrF9w6w2HZI",
    "outputId": "552bf9da-29d0-4a66-c7be-1bcdccf1383a"
   },
   "execution_count": 20,
   "outputs": [
    {
     "output_type": "execute_result",
     "data": {
      "text/plain": [
       "[('narendramodi', 2261),\n",
       " ('Kisanektamorcha', 1836),\n",
       " ('RakeshTikaitBKU', 1639),\n",
       " ('PMOIndia', 1422),\n",
       " ('RahulGandhi', 1125),\n",
       " ('GretaThunberg', 1046),\n",
       " ('RaviSinghKA', 1015),\n",
       " ('rihanna', 972),\n",
       " ('UNHumanRights', 962),\n",
       " ('meenaharris', 925)]"
      ]
     },
     "metadata": {},
     "execution_count": 20
    }
   ]
  },
  {
   "cell_type": "markdown",
   "source": [
    "##Q3 Optimizacion en tiempo de ejecucion\n",
    "\n",
    "Reducir los accesos a estructuras y trabajar con expresiones generadoras.\n",
    "Evitar operaciones innecesarias y actualizar el Counter solo si es necesario.\n",
    "Usar precompilación de la expresión regular para mayor eficiencia."
   ],
   "metadata": {
    "id": "QYoMCyCXtK8-"
   }
  },
  {
   "cell_type": "code",
   "source": [
    "import re\n",
    "import json\n",
    "import logging\n",
    "from collections import Counter\n",
    "from typing import List, Tuple\n",
    "\n",
    "# Configuración del logger\n",
    "logging.basicConfig(level=logging.INFO, format='%(asctime)s - %(levelname)s - %(message)s')\n",
    "logger = logging.getLogger(__name__)\n",
    "\n",
    "def q3_time(file_path: str) -> List[Tuple[str, int]]:\n",
    "    \"\"\"\n",
    "    Procesa un archivo NDJSON para contar las menciones de usuarios en los tweets,\n",
    "    optimizando el tiempo de ejecución.\n",
    "\n",
    "    Args:\n",
    "        file_path (str): Ruta del archivo NDJSON.\n",
    "\n",
    "    Returns:\n",
    "        List[Tuple[str, int]]: Lista de los 10 usuarios más mencionados con sus frecuencias.\n",
    "    \"\"\"\n",
    "    # Compilar la expresión regular para mejorar el rendimiento\n",
    "    username_pattern = re.compile(r'@(\\w+)')\n",
    "\n",
    "    # Inicializar el contador de nombres de usuario\n",
    "    username_counter = Counter()\n",
    "\n",
    "    try:\n",
    "        # Abrir el archivo en modo lectura\n",
    "        with open(file_path, 'r') as file:\n",
    "            # Usar una expresión generadora para reducir accesos a estructuras\n",
    "            tweets_content = (\n",
    "                json.loads(line).get('content', '') for line in file\n",
    "            )\n",
    "\n",
    "            # Actualizar el contador en un solo paso para optimizar la velocidad\n",
    "            for content in tweets_content:\n",
    "                try:\n",
    "                    # Encontrar y contar los nombres de usuario en cada contenido\n",
    "                    mentions = username_pattern.findall(content)\n",
    "                    if mentions:\n",
    "                        username_counter.update(mentions)\n",
    "                except Exception as e:\n",
    "                    # Registrar cualquier error inesperado\n",
    "                    logger.warning(f\"Error al procesar menciones: {e}\")\n",
    "\n",
    "    except (FileNotFoundError, IOError) as e:\n",
    "        # Registrar error si no se puede abrir el archivo\n",
    "        logger.error(f\"Error al abrir el archivo: {e}\")\n",
    "        raise\n",
    "    except json.JSONDecodeError as e:\n",
    "        # Registrar error si una línea no se puede decodificar\n",
    "        logger.error(f\"Error al decodificar JSON: {e}\")\n",
    "        raise\n",
    "\n",
    "    # Obtener los 10 usuarios más mencionados\n",
    "    top_users = username_counter.most_common(10)\n",
    "\n",
    "    # Registrar los resultados obtenidos\n",
    "    logger.info(f\"Top 10 usuarios mencionados: {top_users}\")\n",
    "\n",
    "    return top_users\n"
   ],
   "metadata": {
    "id": "wkEzCy0kj7j8"
   },
   "execution_count": 24,
   "outputs": []
  },
  {
   "cell_type": "code",
   "source": [
    "%time q3_time(file_path)"
   ],
   "metadata": {
    "colab": {
     "base_uri": "https://localhost:8080/"
    },
    "id": "sYAwUvuR2iYA",
    "outputId": "738778ff-09e8-48bb-9361-c6f4cda310e5"
   },
   "execution_count": 27,
   "outputs": [
    {
     "output_type": "stream",
     "name": "stdout",
     "text": [
      "CPU times: user 6.66 s, sys: 253 ms, total: 6.91 s\n",
      "Wall time: 8.37 s\n"
     ]
    },
    {
     "output_type": "execute_result",
     "data": {
      "text/plain": [
       "[('narendramodi', 2261),\n",
       " ('Kisanektamorcha', 1836),\n",
       " ('RakeshTikaitBKU', 1639),\n",
       " ('PMOIndia', 1422),\n",
       " ('RahulGandhi', 1125),\n",
       " ('GretaThunberg', 1046),\n",
       " ('RaviSinghKA', 1015),\n",
       " ('rihanna', 972),\n",
       " ('UNHumanRights', 962),\n",
       " ('meenaharris', 925)]"
      ]
     },
     "metadata": {},
     "execution_count": 27
    }
   ]
  },
  {
   "cell_type": "code",
   "source": [
    "%memit q3_memory(file_path)"
   ],
   "metadata": {
    "colab": {
     "base_uri": "https://localhost:8080/"
    },
    "id": "A6QKdKtq3z79",
    "outputId": "e35727c4-2d42-47a3-fd73-0e00af6d9e59"
   },
   "execution_count": 28,
   "outputs": [
    {
     "output_type": "stream",
     "name": "stdout",
     "text": [
      "peak memory: 265.61 MiB, increment: 0.77 MiB\n"
     ]
    }
   ]
  }
 ],
 "metadata": {
  "language_info": {
   "name": "python"
  },
  "orig_nbformat": 4,
  "colab": {
   "provenance": []
  },
  "kernelspec": {
   "name": "python3",
   "display_name": "Python 3"
  },
  "widgets": {
   "application/vnd.jupyter.widget-state+json": {
    "7e465b93ec484136ab3b9b146c692745": {
     "model_module": "@jupyter-widgets/controls",
     "model_name": "HBoxModel",
     "model_module_version": "1.5.0",
     "state": {
      "_dom_classes": [],
      "_model_module": "@jupyter-widgets/controls",
      "_model_module_version": "1.5.0",
      "_model_name": "HBoxModel",
      "_view_count": null,
      "_view_module": "@jupyter-widgets/controls",
      "_view_module_version": "1.5.0",
      "_view_name": "HBoxView",
      "box_style": "",
      "children": [
       "IPY_MODEL_c94155920e204f52a9531f45771a1638",
       "IPY_MODEL_55fcf14d42a042e68d05357d6f51958f",
       "IPY_MODEL_dd2fe957000145f4a19e8e1042b83a3e"
      ],
      "layout": "IPY_MODEL_06e31c98c1ed4159a1a4a563e3867d62"
     }
    },
    "c94155920e204f52a9531f45771a1638": {
     "model_module": "@jupyter-widgets/controls",
     "model_name": "HTMLModel",
     "model_module_version": "1.5.0",
     "state": {
      "_dom_classes": [],
      "_model_module": "@jupyter-widgets/controls",
      "_model_module_version": "1.5.0",
      "_model_name": "HTMLModel",
      "_view_count": null,
      "_view_module": "@jupyter-widgets/controls",
      "_view_module_version": "1.5.0",
      "_view_name": "HTMLView",
      "description": "",
      "description_tooltip": null,
      "layout": "IPY_MODEL_dcd1c32320864ec1b4f5d864bd92877c",
      "placeholder": "​",
      "style": "IPY_MODEL_1340ece94dcf49909d5415b1512c83df",
      "value": "Procesando Lineas: "
     }
    },
    "55fcf14d42a042e68d05357d6f51958f": {
     "model_module": "@jupyter-widgets/controls",
     "model_name": "FloatProgressModel",
     "model_module_version": "1.5.0",
     "state": {
      "_dom_classes": [],
      "_model_module": "@jupyter-widgets/controls",
      "_model_module_version": "1.5.0",
      "_model_name": "FloatProgressModel",
      "_view_count": null,
      "_view_module": "@jupyter-widgets/controls",
      "_view_module_version": "1.5.0",
      "_view_name": "ProgressView",
      "bar_style": "success",
      "description": "",
      "description_tooltip": null,
      "layout": "IPY_MODEL_8b611c633bd143f2b5f5a9900485f834",
      "max": 1,
      "min": 0,
      "orientation": "horizontal",
      "style": "IPY_MODEL_2cf9fae471d3426494a29929a770d05e",
      "value": 1
     }
    },
    "dd2fe957000145f4a19e8e1042b83a3e": {
     "model_module": "@jupyter-widgets/controls",
     "model_name": "HTMLModel",
     "model_module_version": "1.5.0",
     "state": {
      "_dom_classes": [],
      "_model_module": "@jupyter-widgets/controls",
      "_model_module_version": "1.5.0",
      "_model_name": "HTMLModel",
      "_view_count": null,
      "_view_module": "@jupyter-widgets/controls",
      "_view_module_version": "1.5.0",
      "_view_name": "HTMLView",
      "description": "",
      "description_tooltip": null,
      "layout": "IPY_MODEL_779d231f04dc4494ae0fad877fdb7c48",
      "placeholder": "​",
      "style": "IPY_MODEL_508103cf3e7a49eb96260d46f34d72e6",
      "value": " 117407/0 [00:03&lt;00:00, 16935.21it/s]"
     }
    },
    "06e31c98c1ed4159a1a4a563e3867d62": {
     "model_module": "@jupyter-widgets/base",
     "model_name": "LayoutModel",
     "model_module_version": "1.2.0",
     "state": {
      "_model_module": "@jupyter-widgets/base",
      "_model_module_version": "1.2.0",
      "_model_name": "LayoutModel",
      "_view_count": null,
      "_view_module": "@jupyter-widgets/base",
      "_view_module_version": "1.2.0",
      "_view_name": "LayoutView",
      "align_content": null,
      "align_items": null,
      "align_self": null,
      "border": null,
      "bottom": null,
      "display": null,
      "flex": null,
      "flex_flow": null,
      "grid_area": null,
      "grid_auto_columns": null,
      "grid_auto_flow": null,
      "grid_auto_rows": null,
      "grid_column": null,
      "grid_gap": null,
      "grid_row": null,
      "grid_template_areas": null,
      "grid_template_columns": null,
      "grid_template_rows": null,
      "height": null,
      "justify_content": null,
      "justify_items": null,
      "left": null,
      "margin": null,
      "max_height": null,
      "max_width": null,
      "min_height": null,
      "min_width": null,
      "object_fit": null,
      "object_position": null,
      "order": null,
      "overflow": null,
      "overflow_x": null,
      "overflow_y": null,
      "padding": null,
      "right": null,
      "top": null,
      "visibility": null,
      "width": null
     }
    },
    "dcd1c32320864ec1b4f5d864bd92877c": {
     "model_module": "@jupyter-widgets/base",
     "model_name": "LayoutModel",
     "model_module_version": "1.2.0",
     "state": {
      "_model_module": "@jupyter-widgets/base",
      "_model_module_version": "1.2.0",
      "_model_name": "LayoutModel",
      "_view_count": null,
      "_view_module": "@jupyter-widgets/base",
      "_view_module_version": "1.2.0",
      "_view_name": "LayoutView",
      "align_content": null,
      "align_items": null,
      "align_self": null,
      "border": null,
      "bottom": null,
      "display": null,
      "flex": null,
      "flex_flow": null,
      "grid_area": null,
      "grid_auto_columns": null,
      "grid_auto_flow": null,
      "grid_auto_rows": null,
      "grid_column": null,
      "grid_gap": null,
      "grid_row": null,
      "grid_template_areas": null,
      "grid_template_columns": null,
      "grid_template_rows": null,
      "height": null,
      "justify_content": null,
      "justify_items": null,
      "left": null,
      "margin": null,
      "max_height": null,
      "max_width": null,
      "min_height": null,
      "min_width": null,
      "object_fit": null,
      "object_position": null,
      "order": null,
      "overflow": null,
      "overflow_x": null,
      "overflow_y": null,
      "padding": null,
      "right": null,
      "top": null,
      "visibility": null,
      "width": null
     }
    },
    "1340ece94dcf49909d5415b1512c83df": {
     "model_module": "@jupyter-widgets/controls",
     "model_name": "DescriptionStyleModel",
     "model_module_version": "1.5.0",
     "state": {
      "_model_module": "@jupyter-widgets/controls",
      "_model_module_version": "1.5.0",
      "_model_name": "DescriptionStyleModel",
      "_view_count": null,
      "_view_module": "@jupyter-widgets/base",
      "_view_module_version": "1.2.0",
      "_view_name": "StyleView",
      "description_width": ""
     }
    },
    "8b611c633bd143f2b5f5a9900485f834": {
     "model_module": "@jupyter-widgets/base",
     "model_name": "LayoutModel",
     "model_module_version": "1.2.0",
     "state": {
      "_model_module": "@jupyter-widgets/base",
      "_model_module_version": "1.2.0",
      "_model_name": "LayoutModel",
      "_view_count": null,
      "_view_module": "@jupyter-widgets/base",
      "_view_module_version": "1.2.0",
      "_view_name": "LayoutView",
      "align_content": null,
      "align_items": null,
      "align_self": null,
      "border": null,
      "bottom": null,
      "display": null,
      "flex": null,
      "flex_flow": null,
      "grid_area": null,
      "grid_auto_columns": null,
      "grid_auto_flow": null,
      "grid_auto_rows": null,
      "grid_column": null,
      "grid_gap": null,
      "grid_row": null,
      "grid_template_areas": null,
      "grid_template_columns": null,
      "grid_template_rows": null,
      "height": null,
      "justify_content": null,
      "justify_items": null,
      "left": null,
      "margin": null,
      "max_height": null,
      "max_width": null,
      "min_height": null,
      "min_width": null,
      "object_fit": null,
      "object_position": null,
      "order": null,
      "overflow": null,
      "overflow_x": null,
      "overflow_y": null,
      "padding": null,
      "right": null,
      "top": null,
      "visibility": null,
      "width": "20px"
     }
    },
    "2cf9fae471d3426494a29929a770d05e": {
     "model_module": "@jupyter-widgets/controls",
     "model_name": "ProgressStyleModel",
     "model_module_version": "1.5.0",
     "state": {
      "_model_module": "@jupyter-widgets/controls",
      "_model_module_version": "1.5.0",
      "_model_name": "ProgressStyleModel",
      "_view_count": null,
      "_view_module": "@jupyter-widgets/base",
      "_view_module_version": "1.2.0",
      "_view_name": "StyleView",
      "bar_color": null,
      "description_width": ""
     }
    },
    "779d231f04dc4494ae0fad877fdb7c48": {
     "model_module": "@jupyter-widgets/base",
     "model_name": "LayoutModel",
     "model_module_version": "1.2.0",
     "state": {
      "_model_module": "@jupyter-widgets/base",
      "_model_module_version": "1.2.0",
      "_model_name": "LayoutModel",
      "_view_count": null,
      "_view_module": "@jupyter-widgets/base",
      "_view_module_version": "1.2.0",
      "_view_name": "LayoutView",
      "align_content": null,
      "align_items": null,
      "align_self": null,
      "border": null,
      "bottom": null,
      "display": null,
      "flex": null,
      "flex_flow": null,
      "grid_area": null,
      "grid_auto_columns": null,
      "grid_auto_flow": null,
      "grid_auto_rows": null,
      "grid_column": null,
      "grid_gap": null,
      "grid_row": null,
      "grid_template_areas": null,
      "grid_template_columns": null,
      "grid_template_rows": null,
      "height": null,
      "justify_content": null,
      "justify_items": null,
      "left": null,
      "margin": null,
      "max_height": null,
      "max_width": null,
      "min_height": null,
      "min_width": null,
      "object_fit": null,
      "object_position": null,
      "order": null,
      "overflow": null,
      "overflow_x": null,
      "overflow_y": null,
      "padding": null,
      "right": null,
      "top": null,
      "visibility": null,
      "width": null
     }
    },
    "508103cf3e7a49eb96260d46f34d72e6": {
     "model_module": "@jupyter-widgets/controls",
     "model_name": "DescriptionStyleModel",
     "model_module_version": "1.5.0",
     "state": {
      "_model_module": "@jupyter-widgets/controls",
      "_model_module_version": "1.5.0",
      "_model_name": "DescriptionStyleModel",
      "_view_count": null,
      "_view_module": "@jupyter-widgets/base",
      "_view_module_version": "1.2.0",
      "_view_name": "StyleView",
      "description_width": ""
     }
    },
    "2eaaf4a04b6d4eeb866339c1287ae47d": {
     "model_module": "@jupyter-widgets/controls",
     "model_name": "HBoxModel",
     "model_module_version": "1.5.0",
     "state": {
      "_dom_classes": [],
      "_model_module": "@jupyter-widgets/controls",
      "_model_module_version": "1.5.0",
      "_model_name": "HBoxModel",
      "_view_count": null,
      "_view_module": "@jupyter-widgets/controls",
      "_view_module_version": "1.5.0",
      "_view_name": "HBoxView",
      "box_style": "",
      "children": [
       "IPY_MODEL_502241d7c2994fecac5609241ac1d779",
       "IPY_MODEL_77d1d356675d4277a250d7a00de34076",
       "IPY_MODEL_81049e42a02e4443b4f00ef61d737965"
      ],
      "layout": "IPY_MODEL_4ad6a3a95ce54219ae617a8a89debd61"
     }
    },
    "502241d7c2994fecac5609241ac1d779": {
     "model_module": "@jupyter-widgets/controls",
     "model_name": "HTMLModel",
     "model_module_version": "1.5.0",
     "state": {
      "_dom_classes": [],
      "_model_module": "@jupyter-widgets/controls",
      "_model_module_version": "1.5.0",
      "_model_name": "HTMLModel",
      "_view_count": null,
      "_view_module": "@jupyter-widgets/controls",
      "_view_module_version": "1.5.0",
      "_view_name": "HTMLView",
      "description": "",
      "description_tooltip": null,
      "layout": "IPY_MODEL_1012971ba9454db29f6e56668c98fe89",
      "placeholder": "​",
      "style": "IPY_MODEL_2b0cac0b7b7244d1a67d4abead727225",
      "value": "Procesando Lineas: 100%"
     }
    },
    "77d1d356675d4277a250d7a00de34076": {
     "model_module": "@jupyter-widgets/controls",
     "model_name": "FloatProgressModel",
     "model_module_version": "1.5.0",
     "state": {
      "_dom_classes": [],
      "_model_module": "@jupyter-widgets/controls",
      "_model_module_version": "1.5.0",
      "_model_name": "FloatProgressModel",
      "_view_count": null,
      "_view_module": "@jupyter-widgets/controls",
      "_view_module_version": "1.5.0",
      "_view_name": "ProgressView",
      "bar_style": "success",
      "description": "",
      "description_tooltip": null,
      "layout": "IPY_MODEL_3c875a14fa764ab5b2ee49f34ec94d0d",
      "max": 117407,
      "min": 0,
      "orientation": "horizontal",
      "style": "IPY_MODEL_61a4f09ea06049ba902f78bc9828093b",
      "value": 117407
     }
    },
    "81049e42a02e4443b4f00ef61d737965": {
     "model_module": "@jupyter-widgets/controls",
     "model_name": "HTMLModel",
     "model_module_version": "1.5.0",
     "state": {
      "_dom_classes": [],
      "_model_module": "@jupyter-widgets/controls",
      "_model_module_version": "1.5.0",
      "_model_name": "HTMLModel",
      "_view_count": null,
      "_view_module": "@jupyter-widgets/controls",
      "_view_module_version": "1.5.0",
      "_view_name": "HTMLView",
      "description": "",
      "description_tooltip": null,
      "layout": "IPY_MODEL_44def2dbc6744e28a3a41f14b1cffcbb",
      "placeholder": "​",
      "style": "IPY_MODEL_4a054cba5a774a8ab217690a857514b7",
      "value": " 117407/117407 [00:05&lt;00:00, 33850.49it/s]"
     }
    },
    "4ad6a3a95ce54219ae617a8a89debd61": {
     "model_module": "@jupyter-widgets/base",
     "model_name": "LayoutModel",
     "model_module_version": "1.2.0",
     "state": {
      "_model_module": "@jupyter-widgets/base",
      "_model_module_version": "1.2.0",
      "_model_name": "LayoutModel",
      "_view_count": null,
      "_view_module": "@jupyter-widgets/base",
      "_view_module_version": "1.2.0",
      "_view_name": "LayoutView",
      "align_content": null,
      "align_items": null,
      "align_self": null,
      "border": null,
      "bottom": null,
      "display": null,
      "flex": null,
      "flex_flow": null,
      "grid_area": null,
      "grid_auto_columns": null,
      "grid_auto_flow": null,
      "grid_auto_rows": null,
      "grid_column": null,
      "grid_gap": null,
      "grid_row": null,
      "grid_template_areas": null,
      "grid_template_columns": null,
      "grid_template_rows": null,
      "height": null,
      "justify_content": null,
      "justify_items": null,
      "left": null,
      "margin": null,
      "max_height": null,
      "max_width": null,
      "min_height": null,
      "min_width": null,
      "object_fit": null,
      "object_position": null,
      "order": null,
      "overflow": null,
      "overflow_x": null,
      "overflow_y": null,
      "padding": null,
      "right": null,
      "top": null,
      "visibility": null,
      "width": null
     }
    },
    "1012971ba9454db29f6e56668c98fe89": {
     "model_module": "@jupyter-widgets/base",
     "model_name": "LayoutModel",
     "model_module_version": "1.2.0",
     "state": {
      "_model_module": "@jupyter-widgets/base",
      "_model_module_version": "1.2.0",
      "_model_name": "LayoutModel",
      "_view_count": null,
      "_view_module": "@jupyter-widgets/base",
      "_view_module_version": "1.2.0",
      "_view_name": "LayoutView",
      "align_content": null,
      "align_items": null,
      "align_self": null,
      "border": null,
      "bottom": null,
      "display": null,
      "flex": null,
      "flex_flow": null,
      "grid_area": null,
      "grid_auto_columns": null,
      "grid_auto_flow": null,
      "grid_auto_rows": null,
      "grid_column": null,
      "grid_gap": null,
      "grid_row": null,
      "grid_template_areas": null,
      "grid_template_columns": null,
      "grid_template_rows": null,
      "height": null,
      "justify_content": null,
      "justify_items": null,
      "left": null,
      "margin": null,
      "max_height": null,
      "max_width": null,
      "min_height": null,
      "min_width": null,
      "object_fit": null,
      "object_position": null,
      "order": null,
      "overflow": null,
      "overflow_x": null,
      "overflow_y": null,
      "padding": null,
      "right": null,
      "top": null,
      "visibility": null,
      "width": null
     }
    },
    "2b0cac0b7b7244d1a67d4abead727225": {
     "model_module": "@jupyter-widgets/controls",
     "model_name": "DescriptionStyleModel",
     "model_module_version": "1.5.0",
     "state": {
      "_model_module": "@jupyter-widgets/controls",
      "_model_module_version": "1.5.0",
      "_model_name": "DescriptionStyleModel",
      "_view_count": null,
      "_view_module": "@jupyter-widgets/base",
      "_view_module_version": "1.2.0",
      "_view_name": "StyleView",
      "description_width": ""
     }
    },
    "3c875a14fa764ab5b2ee49f34ec94d0d": {
     "model_module": "@jupyter-widgets/base",
     "model_name": "LayoutModel",
     "model_module_version": "1.2.0",
     "state": {
      "_model_module": "@jupyter-widgets/base",
      "_model_module_version": "1.2.0",
      "_model_name": "LayoutModel",
      "_view_count": null,
      "_view_module": "@jupyter-widgets/base",
      "_view_module_version": "1.2.0",
      "_view_name": "LayoutView",
      "align_content": null,
      "align_items": null,
      "align_self": null,
      "border": null,
      "bottom": null,
      "display": null,
      "flex": null,
      "flex_flow": null,
      "grid_area": null,
      "grid_auto_columns": null,
      "grid_auto_flow": null,
      "grid_auto_rows": null,
      "grid_column": null,
      "grid_gap": null,
      "grid_row": null,
      "grid_template_areas": null,
      "grid_template_columns": null,
      "grid_template_rows": null,
      "height": null,
      "justify_content": null,
      "justify_items": null,
      "left": null,
      "margin": null,
      "max_height": null,
      "max_width": null,
      "min_height": null,
      "min_width": null,
      "object_fit": null,
      "object_position": null,
      "order": null,
      "overflow": null,
      "overflow_x": null,
      "overflow_y": null,
      "padding": null,
      "right": null,
      "top": null,
      "visibility": null,
      "width": null
     }
    },
    "61a4f09ea06049ba902f78bc9828093b": {
     "model_module": "@jupyter-widgets/controls",
     "model_name": "ProgressStyleModel",
     "model_module_version": "1.5.0",
     "state": {
      "_model_module": "@jupyter-widgets/controls",
      "_model_module_version": "1.5.0",
      "_model_name": "ProgressStyleModel",
      "_view_count": null,
      "_view_module": "@jupyter-widgets/base",
      "_view_module_version": "1.2.0",
      "_view_name": "StyleView",
      "bar_color": null,
      "description_width": ""
     }
    },
    "44def2dbc6744e28a3a41f14b1cffcbb": {
     "model_module": "@jupyter-widgets/base",
     "model_name": "LayoutModel",
     "model_module_version": "1.2.0",
     "state": {
      "_model_module": "@jupyter-widgets/base",
      "_model_module_version": "1.2.0",
      "_model_name": "LayoutModel",
      "_view_count": null,
      "_view_module": "@jupyter-widgets/base",
      "_view_module_version": "1.2.0",
      "_view_name": "LayoutView",
      "align_content": null,
      "align_items": null,
      "align_self": null,
      "border": null,
      "bottom": null,
      "display": null,
      "flex": null,
      "flex_flow": null,
      "grid_area": null,
      "grid_auto_columns": null,
      "grid_auto_flow": null,
      "grid_auto_rows": null,
      "grid_column": null,
      "grid_gap": null,
      "grid_row": null,
      "grid_template_areas": null,
      "grid_template_columns": null,
      "grid_template_rows": null,
      "height": null,
      "justify_content": null,
      "justify_items": null,
      "left": null,
      "margin": null,
      "max_height": null,
      "max_width": null,
      "min_height": null,
      "min_width": null,
      "object_fit": null,
      "object_position": null,
      "order": null,
      "overflow": null,
      "overflow_x": null,
      "overflow_y": null,
      "padding": null,
      "right": null,
      "top": null,
      "visibility": null,
      "width": null
     }
    },
    "4a054cba5a774a8ab217690a857514b7": {
     "model_module": "@jupyter-widgets/controls",
     "model_name": "DescriptionStyleModel",
     "model_module_version": "1.5.0",
     "state": {
      "_model_module": "@jupyter-widgets/controls",
      "_model_module_version": "1.5.0",
      "_model_name": "DescriptionStyleModel",
      "_view_count": null,
      "_view_module": "@jupyter-widgets/base",
      "_view_module_version": "1.2.0",
      "_view_name": "StyleView",
      "description_width": ""
     }
    },
    "a9cba8433cc64f62ac5124d25fc83408": {
     "model_module": "@jupyter-widgets/controls",
     "model_name": "HBoxModel",
     "model_module_version": "1.5.0",
     "state": {
      "_dom_classes": [],
      "_model_module": "@jupyter-widgets/controls",
      "_model_module_version": "1.5.0",
      "_model_name": "HBoxModel",
      "_view_count": null,
      "_view_module": "@jupyter-widgets/controls",
      "_view_module_version": "1.5.0",
      "_view_name": "HBoxView",
      "box_style": "",
      "children": [
       "IPY_MODEL_dd64596674d14762bcd6c1a721985fd5",
       "IPY_MODEL_b131c4fce4ff4bbf8a909df83119cda4",
       "IPY_MODEL_ac87132f5c7446a78c8cd6f61954e9cb"
      ],
      "layout": "IPY_MODEL_252fd5a1d3544c2b8c031d5da3c98b33"
     }
    },
    "dd64596674d14762bcd6c1a721985fd5": {
     "model_module": "@jupyter-widgets/controls",
     "model_name": "HTMLModel",
     "model_module_version": "1.5.0",
     "state": {
      "_dom_classes": [],
      "_model_module": "@jupyter-widgets/controls",
      "_model_module_version": "1.5.0",
      "_model_name": "HTMLModel",
      "_view_count": null,
      "_view_module": "@jupyter-widgets/controls",
      "_view_module_version": "1.5.0",
      "_view_name": "HTMLView",
      "description": "",
      "description_tooltip": null,
      "layout": "IPY_MODEL_cfb1182c30bc4e728ac731c8b1eaee21",
      "placeholder": "​",
      "style": "IPY_MODEL_c55daef7efb04aaa99ed4163f09ab32f",
      "value": "Procesando Lineas: "
     }
    },
    "b131c4fce4ff4bbf8a909df83119cda4": {
     "model_module": "@jupyter-widgets/controls",
     "model_name": "FloatProgressModel",
     "model_module_version": "1.5.0",
     "state": {
      "_dom_classes": [],
      "_model_module": "@jupyter-widgets/controls",
      "_model_module_version": "1.5.0",
      "_model_name": "FloatProgressModel",
      "_view_count": null,
      "_view_module": "@jupyter-widgets/controls",
      "_view_module_version": "1.5.0",
      "_view_name": "ProgressView",
      "bar_style": "success",
      "description": "",
      "description_tooltip": null,
      "layout": "IPY_MODEL_33bec908b8c54fb78da6135503622afa",
      "max": 1,
      "min": 0,
      "orientation": "horizontal",
      "style": "IPY_MODEL_67bed39eb72e4641b4cb86ba225935c9",
      "value": 1
     }
    },
    "ac87132f5c7446a78c8cd6f61954e9cb": {
     "model_module": "@jupyter-widgets/controls",
     "model_name": "HTMLModel",
     "model_module_version": "1.5.0",
     "state": {
      "_dom_classes": [],
      "_model_module": "@jupyter-widgets/controls",
      "_model_module_version": "1.5.0",
      "_model_name": "HTMLModel",
      "_view_count": null,
      "_view_module": "@jupyter-widgets/controls",
      "_view_module_version": "1.5.0",
      "_view_name": "HTMLView",
      "description": "",
      "description_tooltip": null,
      "layout": "IPY_MODEL_19bad46e169f4b119b8a66e7b414d0dd",
      "placeholder": "​",
      "style": "IPY_MODEL_4d8c5dc406d648e2abaa2f4f37afdeec",
      "value": " 117407/0 [00:01&lt;00:00, 55676.96it/s]"
     }
    },
    "252fd5a1d3544c2b8c031d5da3c98b33": {
     "model_module": "@jupyter-widgets/base",
     "model_name": "LayoutModel",
     "model_module_version": "1.2.0",
     "state": {
      "_model_module": "@jupyter-widgets/base",
      "_model_module_version": "1.2.0",
      "_model_name": "LayoutModel",
      "_view_count": null,
      "_view_module": "@jupyter-widgets/base",
      "_view_module_version": "1.2.0",
      "_view_name": "LayoutView",
      "align_content": null,
      "align_items": null,
      "align_self": null,
      "border": null,
      "bottom": null,
      "display": null,
      "flex": null,
      "flex_flow": null,
      "grid_area": null,
      "grid_auto_columns": null,
      "grid_auto_flow": null,
      "grid_auto_rows": null,
      "grid_column": null,
      "grid_gap": null,
      "grid_row": null,
      "grid_template_areas": null,
      "grid_template_columns": null,
      "grid_template_rows": null,
      "height": null,
      "justify_content": null,
      "justify_items": null,
      "left": null,
      "margin": null,
      "max_height": null,
      "max_width": null,
      "min_height": null,
      "min_width": null,
      "object_fit": null,
      "object_position": null,
      "order": null,
      "overflow": null,
      "overflow_x": null,
      "overflow_y": null,
      "padding": null,
      "right": null,
      "top": null,
      "visibility": null,
      "width": null
     }
    },
    "cfb1182c30bc4e728ac731c8b1eaee21": {
     "model_module": "@jupyter-widgets/base",
     "model_name": "LayoutModel",
     "model_module_version": "1.2.0",
     "state": {
      "_model_module": "@jupyter-widgets/base",
      "_model_module_version": "1.2.0",
      "_model_name": "LayoutModel",
      "_view_count": null,
      "_view_module": "@jupyter-widgets/base",
      "_view_module_version": "1.2.0",
      "_view_name": "LayoutView",
      "align_content": null,
      "align_items": null,
      "align_self": null,
      "border": null,
      "bottom": null,
      "display": null,
      "flex": null,
      "flex_flow": null,
      "grid_area": null,
      "grid_auto_columns": null,
      "grid_auto_flow": null,
      "grid_auto_rows": null,
      "grid_column": null,
      "grid_gap": null,
      "grid_row": null,
      "grid_template_areas": null,
      "grid_template_columns": null,
      "grid_template_rows": null,
      "height": null,
      "justify_content": null,
      "justify_items": null,
      "left": null,
      "margin": null,
      "max_height": null,
      "max_width": null,
      "min_height": null,
      "min_width": null,
      "object_fit": null,
      "object_position": null,
      "order": null,
      "overflow": null,
      "overflow_x": null,
      "overflow_y": null,
      "padding": null,
      "right": null,
      "top": null,
      "visibility": null,
      "width": null
     }
    },
    "c55daef7efb04aaa99ed4163f09ab32f": {
     "model_module": "@jupyter-widgets/controls",
     "model_name": "DescriptionStyleModel",
     "model_module_version": "1.5.0",
     "state": {
      "_model_module": "@jupyter-widgets/controls",
      "_model_module_version": "1.5.0",
      "_model_name": "DescriptionStyleModel",
      "_view_count": null,
      "_view_module": "@jupyter-widgets/base",
      "_view_module_version": "1.2.0",
      "_view_name": "StyleView",
      "description_width": ""
     }
    },
    "33bec908b8c54fb78da6135503622afa": {
     "model_module": "@jupyter-widgets/base",
     "model_name": "LayoutModel",
     "model_module_version": "1.2.0",
     "state": {
      "_model_module": "@jupyter-widgets/base",
      "_model_module_version": "1.2.0",
      "_model_name": "LayoutModel",
      "_view_count": null,
      "_view_module": "@jupyter-widgets/base",
      "_view_module_version": "1.2.0",
      "_view_name": "LayoutView",
      "align_content": null,
      "align_items": null,
      "align_self": null,
      "border": null,
      "bottom": null,
      "display": null,
      "flex": null,
      "flex_flow": null,
      "grid_area": null,
      "grid_auto_columns": null,
      "grid_auto_flow": null,
      "grid_auto_rows": null,
      "grid_column": null,
      "grid_gap": null,
      "grid_row": null,
      "grid_template_areas": null,
      "grid_template_columns": null,
      "grid_template_rows": null,
      "height": null,
      "justify_content": null,
      "justify_items": null,
      "left": null,
      "margin": null,
      "max_height": null,
      "max_width": null,
      "min_height": null,
      "min_width": null,
      "object_fit": null,
      "object_position": null,
      "order": null,
      "overflow": null,
      "overflow_x": null,
      "overflow_y": null,
      "padding": null,
      "right": null,
      "top": null,
      "visibility": null,
      "width": "20px"
     }
    },
    "67bed39eb72e4641b4cb86ba225935c9": {
     "model_module": "@jupyter-widgets/controls",
     "model_name": "ProgressStyleModel",
     "model_module_version": "1.5.0",
     "state": {
      "_model_module": "@jupyter-widgets/controls",
      "_model_module_version": "1.5.0",
      "_model_name": "ProgressStyleModel",
      "_view_count": null,
      "_view_module": "@jupyter-widgets/base",
      "_view_module_version": "1.2.0",
      "_view_name": "StyleView",
      "bar_color": null,
      "description_width": ""
     }
    },
    "19bad46e169f4b119b8a66e7b414d0dd": {
     "model_module": "@jupyter-widgets/base",
     "model_name": "LayoutModel",
     "model_module_version": "1.2.0",
     "state": {
      "_model_module": "@jupyter-widgets/base",
      "_model_module_version": "1.2.0",
      "_model_name": "LayoutModel",
      "_view_count": null,
      "_view_module": "@jupyter-widgets/base",
      "_view_module_version": "1.2.0",
      "_view_name": "LayoutView",
      "align_content": null,
      "align_items": null,
      "align_self": null,
      "border": null,
      "bottom": null,
      "display": null,
      "flex": null,
      "flex_flow": null,
      "grid_area": null,
      "grid_auto_columns": null,
      "grid_auto_flow": null,
      "grid_auto_rows": null,
      "grid_column": null,
      "grid_gap": null,
      "grid_row": null,
      "grid_template_areas": null,
      "grid_template_columns": null,
      "grid_template_rows": null,
      "height": null,
      "justify_content": null,
      "justify_items": null,
      "left": null,
      "margin": null,
      "max_height": null,
      "max_width": null,
      "min_height": null,
      "min_width": null,
      "object_fit": null,
      "object_position": null,
      "order": null,
      "overflow": null,
      "overflow_x": null,
      "overflow_y": null,
      "padding": null,
      "right": null,
      "top": null,
      "visibility": null,
      "width": null
     }
    },
    "4d8c5dc406d648e2abaa2f4f37afdeec": {
     "model_module": "@jupyter-widgets/controls",
     "model_name": "DescriptionStyleModel",
     "model_module_version": "1.5.0",
     "state": {
      "_model_module": "@jupyter-widgets/controls",
      "_model_module_version": "1.5.0",
      "_model_name": "DescriptionStyleModel",
      "_view_count": null,
      "_view_module": "@jupyter-widgets/base",
      "_view_module_version": "1.2.0",
      "_view_name": "StyleView",
      "description_width": ""
     }
    },
    "079a1fd4aaba450ab4e45d26143a38f8": {
     "model_module": "@jupyter-widgets/controls",
     "model_name": "HBoxModel",
     "model_module_version": "1.5.0",
     "state": {
      "_dom_classes": [],
      "_model_module": "@jupyter-widgets/controls",
      "_model_module_version": "1.5.0",
      "_model_name": "HBoxModel",
      "_view_count": null,
      "_view_module": "@jupyter-widgets/controls",
      "_view_module_version": "1.5.0",
      "_view_name": "HBoxView",
      "box_style": "",
      "children": [
       "IPY_MODEL_6494c4d9f59140eaaef21cfd87a7d0a7",
       "IPY_MODEL_9996e43dbd3d429e831c98f864b27c43",
       "IPY_MODEL_e4d7dadaae4a4f96b368cf94f52520e2"
      ],
      "layout": "IPY_MODEL_9c711df9cfa0406ba9757417fa338d17"
     }
    },
    "6494c4d9f59140eaaef21cfd87a7d0a7": {
     "model_module": "@jupyter-widgets/controls",
     "model_name": "HTMLModel",
     "model_module_version": "1.5.0",
     "state": {
      "_dom_classes": [],
      "_model_module": "@jupyter-widgets/controls",
      "_model_module_version": "1.5.0",
      "_model_name": "HTMLModel",
      "_view_count": null,
      "_view_module": "@jupyter-widgets/controls",
      "_view_module_version": "1.5.0",
      "_view_name": "HTMLView",
      "description": "",
      "description_tooltip": null,
      "layout": "IPY_MODEL_25e65c67f06b4b87a5fdaa9925e5e970",
      "placeholder": "​",
      "style": "IPY_MODEL_d79f0667cd304150adcfcc62460501dc",
      "value": "Procesando Lineas: 100%"
     }
    },
    "9996e43dbd3d429e831c98f864b27c43": {
     "model_module": "@jupyter-widgets/controls",
     "model_name": "FloatProgressModel",
     "model_module_version": "1.5.0",
     "state": {
      "_dom_classes": [],
      "_model_module": "@jupyter-widgets/controls",
      "_model_module_version": "1.5.0",
      "_model_name": "FloatProgressModel",
      "_view_count": null,
      "_view_module": "@jupyter-widgets/controls",
      "_view_module_version": "1.5.0",
      "_view_name": "ProgressView",
      "bar_style": "success",
      "description": "",
      "description_tooltip": null,
      "layout": "IPY_MODEL_b665858d027d4d1ca6812288c1f63468",
      "max": 117407,
      "min": 0,
      "orientation": "horizontal",
      "style": "IPY_MODEL_35afceb87b9c47058a16c6ee70d4f10f",
      "value": 117407
     }
    },
    "e4d7dadaae4a4f96b368cf94f52520e2": {
     "model_module": "@jupyter-widgets/controls",
     "model_name": "HTMLModel",
     "model_module_version": "1.5.0",
     "state": {
      "_dom_classes": [],
      "_model_module": "@jupyter-widgets/controls",
      "_model_module_version": "1.5.0",
      "_model_name": "HTMLModel",
      "_view_count": null,
      "_view_module": "@jupyter-widgets/controls",
      "_view_module_version": "1.5.0",
      "_view_name": "HTMLView",
      "description": "",
      "description_tooltip": null,
      "layout": "IPY_MODEL_b7bbc0e74c614d34a5c16af194e5aa20",
      "placeholder": "​",
      "style": "IPY_MODEL_612081c2f6314395882aef684e5b8295",
      "value": " 117407/117407 [00:04&lt;00:00, 31243.76it/s]"
     }
    },
    "9c711df9cfa0406ba9757417fa338d17": {
     "model_module": "@jupyter-widgets/base",
     "model_name": "LayoutModel",
     "model_module_version": "1.2.0",
     "state": {
      "_model_module": "@jupyter-widgets/base",
      "_model_module_version": "1.2.0",
      "_model_name": "LayoutModel",
      "_view_count": null,
      "_view_module": "@jupyter-widgets/base",
      "_view_module_version": "1.2.0",
      "_view_name": "LayoutView",
      "align_content": null,
      "align_items": null,
      "align_self": null,
      "border": null,
      "bottom": null,
      "display": null,
      "flex": null,
      "flex_flow": null,
      "grid_area": null,
      "grid_auto_columns": null,
      "grid_auto_flow": null,
      "grid_auto_rows": null,
      "grid_column": null,
      "grid_gap": null,
      "grid_row": null,
      "grid_template_areas": null,
      "grid_template_columns": null,
      "grid_template_rows": null,
      "height": null,
      "justify_content": null,
      "justify_items": null,
      "left": null,
      "margin": null,
      "max_height": null,
      "max_width": null,
      "min_height": null,
      "min_width": null,
      "object_fit": null,
      "object_position": null,
      "order": null,
      "overflow": null,
      "overflow_x": null,
      "overflow_y": null,
      "padding": null,
      "right": null,
      "top": null,
      "visibility": null,
      "width": null
     }
    },
    "25e65c67f06b4b87a5fdaa9925e5e970": {
     "model_module": "@jupyter-widgets/base",
     "model_name": "LayoutModel",
     "model_module_version": "1.2.0",
     "state": {
      "_model_module": "@jupyter-widgets/base",
      "_model_module_version": "1.2.0",
      "_model_name": "LayoutModel",
      "_view_count": null,
      "_view_module": "@jupyter-widgets/base",
      "_view_module_version": "1.2.0",
      "_view_name": "LayoutView",
      "align_content": null,
      "align_items": null,
      "align_self": null,
      "border": null,
      "bottom": null,
      "display": null,
      "flex": null,
      "flex_flow": null,
      "grid_area": null,
      "grid_auto_columns": null,
      "grid_auto_flow": null,
      "grid_auto_rows": null,
      "grid_column": null,
      "grid_gap": null,
      "grid_row": null,
      "grid_template_areas": null,
      "grid_template_columns": null,
      "grid_template_rows": null,
      "height": null,
      "justify_content": null,
      "justify_items": null,
      "left": null,
      "margin": null,
      "max_height": null,
      "max_width": null,
      "min_height": null,
      "min_width": null,
      "object_fit": null,
      "object_position": null,
      "order": null,
      "overflow": null,
      "overflow_x": null,
      "overflow_y": null,
      "padding": null,
      "right": null,
      "top": null,
      "visibility": null,
      "width": null
     }
    },
    "d79f0667cd304150adcfcc62460501dc": {
     "model_module": "@jupyter-widgets/controls",
     "model_name": "DescriptionStyleModel",
     "model_module_version": "1.5.0",
     "state": {
      "_model_module": "@jupyter-widgets/controls",
      "_model_module_version": "1.5.0",
      "_model_name": "DescriptionStyleModel",
      "_view_count": null,
      "_view_module": "@jupyter-widgets/base",
      "_view_module_version": "1.2.0",
      "_view_name": "StyleView",
      "description_width": ""
     }
    },
    "b665858d027d4d1ca6812288c1f63468": {
     "model_module": "@jupyter-widgets/base",
     "model_name": "LayoutModel",
     "model_module_version": "1.2.0",
     "state": {
      "_model_module": "@jupyter-widgets/base",
      "_model_module_version": "1.2.0",
      "_model_name": "LayoutModel",
      "_view_count": null,
      "_view_module": "@jupyter-widgets/base",
      "_view_module_version": "1.2.0",
      "_view_name": "LayoutView",
      "align_content": null,
      "align_items": null,
      "align_self": null,
      "border": null,
      "bottom": null,
      "display": null,
      "flex": null,
      "flex_flow": null,
      "grid_area": null,
      "grid_auto_columns": null,
      "grid_auto_flow": null,
      "grid_auto_rows": null,
      "grid_column": null,
      "grid_gap": null,
      "grid_row": null,
      "grid_template_areas": null,
      "grid_template_columns": null,
      "grid_template_rows": null,
      "height": null,
      "justify_content": null,
      "justify_items": null,
      "left": null,
      "margin": null,
      "max_height": null,
      "max_width": null,
      "min_height": null,
      "min_width": null,
      "object_fit": null,
      "object_position": null,
      "order": null,
      "overflow": null,
      "overflow_x": null,
      "overflow_y": null,
      "padding": null,
      "right": null,
      "top": null,
      "visibility": null,
      "width": null
     }
    },
    "35afceb87b9c47058a16c6ee70d4f10f": {
     "model_module": "@jupyter-widgets/controls",
     "model_name": "ProgressStyleModel",
     "model_module_version": "1.5.0",
     "state": {
      "_model_module": "@jupyter-widgets/controls",
      "_model_module_version": "1.5.0",
      "_model_name": "ProgressStyleModel",
      "_view_count": null,
      "_view_module": "@jupyter-widgets/base",
      "_view_module_version": "1.2.0",
      "_view_name": "StyleView",
      "bar_color": null,
      "description_width": ""
     }
    },
    "b7bbc0e74c614d34a5c16af194e5aa20": {
     "model_module": "@jupyter-widgets/base",
     "model_name": "LayoutModel",
     "model_module_version": "1.2.0",
     "state": {
      "_model_module": "@jupyter-widgets/base",
      "_model_module_version": "1.2.0",
      "_model_name": "LayoutModel",
      "_view_count": null,
      "_view_module": "@jupyter-widgets/base",
      "_view_module_version": "1.2.0",
      "_view_name": "LayoutView",
      "align_content": null,
      "align_items": null,
      "align_self": null,
      "border": null,
      "bottom": null,
      "display": null,
      "flex": null,
      "flex_flow": null,
      "grid_area": null,
      "grid_auto_columns": null,
      "grid_auto_flow": null,
      "grid_auto_rows": null,
      "grid_column": null,
      "grid_gap": null,
      "grid_row": null,
      "grid_template_areas": null,
      "grid_template_columns": null,
      "grid_template_rows": null,
      "height": null,
      "justify_content": null,
      "justify_items": null,
      "left": null,
      "margin": null,
      "max_height": null,
      "max_width": null,
      "min_height": null,
      "min_width": null,
      "object_fit": null,
      "object_position": null,
      "order": null,
      "overflow": null,
      "overflow_x": null,
      "overflow_y": null,
      "padding": null,
      "right": null,
      "top": null,
      "visibility": null,
      "width": null
     }
    },
    "612081c2f6314395882aef684e5b8295": {
     "model_module": "@jupyter-widgets/controls",
     "model_name": "DescriptionStyleModel",
     "model_module_version": "1.5.0",
     "state": {
      "_model_module": "@jupyter-widgets/controls",
      "_model_module_version": "1.5.0",
      "_model_name": "DescriptionStyleModel",
      "_view_count": null,
      "_view_module": "@jupyter-widgets/base",
      "_view_module_version": "1.2.0",
      "_view_name": "StyleView",
      "description_width": ""
     }
    },
    "4778b459bed04a35a567ee4ebb4107ad": {
     "model_module": "@jupyter-widgets/controls",
     "model_name": "HBoxModel",
     "model_module_version": "1.5.0",
     "state": {
      "_dom_classes": [],
      "_model_module": "@jupyter-widgets/controls",
      "_model_module_version": "1.5.0",
      "_model_name": "HBoxModel",
      "_view_count": null,
      "_view_module": "@jupyter-widgets/controls",
      "_view_module_version": "1.5.0",
      "_view_name": "HBoxView",
      "box_style": "",
      "children": [
       "IPY_MODEL_6a90e703e2884355a0caba6f8942aca8",
       "IPY_MODEL_dadc252ffaf74e56800b0a180068a958",
       "IPY_MODEL_ee7dfa59db6a474ca447723dc5c354a4"
      ],
      "layout": "IPY_MODEL_81588d75afff44b0b227f6e28d454481"
     }
    },
    "6a90e703e2884355a0caba6f8942aca8": {
     "model_module": "@jupyter-widgets/controls",
     "model_name": "HTMLModel",
     "model_module_version": "1.5.0",
     "state": {
      "_dom_classes": [],
      "_model_module": "@jupyter-widgets/controls",
      "_model_module_version": "1.5.0",
      "_model_name": "HTMLModel",
      "_view_count": null,
      "_view_module": "@jupyter-widgets/controls",
      "_view_module_version": "1.5.0",
      "_view_name": "HTMLView",
      "description": "",
      "description_tooltip": null,
      "layout": "IPY_MODEL_7d9b4c35ba53416796509e2765a6bb34",
      "placeholder": "​",
      "style": "IPY_MODEL_e8617f97a0dd4d16a98a6c6688422cd5",
      "value": "Procesando Lineas: "
     }
    },
    "dadc252ffaf74e56800b0a180068a958": {
     "model_module": "@jupyter-widgets/controls",
     "model_name": "FloatProgressModel",
     "model_module_version": "1.5.0",
     "state": {
      "_dom_classes": [],
      "_model_module": "@jupyter-widgets/controls",
      "_model_module_version": "1.5.0",
      "_model_name": "FloatProgressModel",
      "_view_count": null,
      "_view_module": "@jupyter-widgets/controls",
      "_view_module_version": "1.5.0",
      "_view_name": "ProgressView",
      "bar_style": "success",
      "description": "",
      "description_tooltip": null,
      "layout": "IPY_MODEL_5189d38c0c1f46b9905ec1cc460d4a74",
      "max": 1,
      "min": 0,
      "orientation": "horizontal",
      "style": "IPY_MODEL_236e05ab943b429b91d8b16f462f54e7",
      "value": 1
     }
    },
    "ee7dfa59db6a474ca447723dc5c354a4": {
     "model_module": "@jupyter-widgets/controls",
     "model_name": "HTMLModel",
     "model_module_version": "1.5.0",
     "state": {
      "_dom_classes": [],
      "_model_module": "@jupyter-widgets/controls",
      "_model_module_version": "1.5.0",
      "_model_name": "HTMLModel",
      "_view_count": null,
      "_view_module": "@jupyter-widgets/controls",
      "_view_module_version": "1.5.0",
      "_view_name": "HTMLView",
      "description": "",
      "description_tooltip": null,
      "layout": "IPY_MODEL_2fa66d50b1524160a50d2eeec8f08db8",
      "placeholder": "​",
      "style": "IPY_MODEL_f875241998ea45f78b06d3c11a5a5a73",
      "value": " 117407/0 [00:01&lt;00:00, 297391.94it/s]"
     }
    },
    "81588d75afff44b0b227f6e28d454481": {
     "model_module": "@jupyter-widgets/base",
     "model_name": "LayoutModel",
     "model_module_version": "1.2.0",
     "state": {
      "_model_module": "@jupyter-widgets/base",
      "_model_module_version": "1.2.0",
      "_model_name": "LayoutModel",
      "_view_count": null,
      "_view_module": "@jupyter-widgets/base",
      "_view_module_version": "1.2.0",
      "_view_name": "LayoutView",
      "align_content": null,
      "align_items": null,
      "align_self": null,
      "border": null,
      "bottom": null,
      "display": null,
      "flex": null,
      "flex_flow": null,
      "grid_area": null,
      "grid_auto_columns": null,
      "grid_auto_flow": null,
      "grid_auto_rows": null,
      "grid_column": null,
      "grid_gap": null,
      "grid_row": null,
      "grid_template_areas": null,
      "grid_template_columns": null,
      "grid_template_rows": null,
      "height": null,
      "justify_content": null,
      "justify_items": null,
      "left": null,
      "margin": null,
      "max_height": null,
      "max_width": null,
      "min_height": null,
      "min_width": null,
      "object_fit": null,
      "object_position": null,
      "order": null,
      "overflow": null,
      "overflow_x": null,
      "overflow_y": null,
      "padding": null,
      "right": null,
      "top": null,
      "visibility": null,
      "width": null
     }
    },
    "7d9b4c35ba53416796509e2765a6bb34": {
     "model_module": "@jupyter-widgets/base",
     "model_name": "LayoutModel",
     "model_module_version": "1.2.0",
     "state": {
      "_model_module": "@jupyter-widgets/base",
      "_model_module_version": "1.2.0",
      "_model_name": "LayoutModel",
      "_view_count": null,
      "_view_module": "@jupyter-widgets/base",
      "_view_module_version": "1.2.0",
      "_view_name": "LayoutView",
      "align_content": null,
      "align_items": null,
      "align_self": null,
      "border": null,
      "bottom": null,
      "display": null,
      "flex": null,
      "flex_flow": null,
      "grid_area": null,
      "grid_auto_columns": null,
      "grid_auto_flow": null,
      "grid_auto_rows": null,
      "grid_column": null,
      "grid_gap": null,
      "grid_row": null,
      "grid_template_areas": null,
      "grid_template_columns": null,
      "grid_template_rows": null,
      "height": null,
      "justify_content": null,
      "justify_items": null,
      "left": null,
      "margin": null,
      "max_height": null,
      "max_width": null,
      "min_height": null,
      "min_width": null,
      "object_fit": null,
      "object_position": null,
      "order": null,
      "overflow": null,
      "overflow_x": null,
      "overflow_y": null,
      "padding": null,
      "right": null,
      "top": null,
      "visibility": null,
      "width": null
     }
    },
    "e8617f97a0dd4d16a98a6c6688422cd5": {
     "model_module": "@jupyter-widgets/controls",
     "model_name": "DescriptionStyleModel",
     "model_module_version": "1.5.0",
     "state": {
      "_model_module": "@jupyter-widgets/controls",
      "_model_module_version": "1.5.0",
      "_model_name": "DescriptionStyleModel",
      "_view_count": null,
      "_view_module": "@jupyter-widgets/base",
      "_view_module_version": "1.2.0",
      "_view_name": "StyleView",
      "description_width": ""
     }
    },
    "5189d38c0c1f46b9905ec1cc460d4a74": {
     "model_module": "@jupyter-widgets/base",
     "model_name": "LayoutModel",
     "model_module_version": "1.2.0",
     "state": {
      "_model_module": "@jupyter-widgets/base",
      "_model_module_version": "1.2.0",
      "_model_name": "LayoutModel",
      "_view_count": null,
      "_view_module": "@jupyter-widgets/base",
      "_view_module_version": "1.2.0",
      "_view_name": "LayoutView",
      "align_content": null,
      "align_items": null,
      "align_self": null,
      "border": null,
      "bottom": null,
      "display": null,
      "flex": null,
      "flex_flow": null,
      "grid_area": null,
      "grid_auto_columns": null,
      "grid_auto_flow": null,
      "grid_auto_rows": null,
      "grid_column": null,
      "grid_gap": null,
      "grid_row": null,
      "grid_template_areas": null,
      "grid_template_columns": null,
      "grid_template_rows": null,
      "height": null,
      "justify_content": null,
      "justify_items": null,
      "left": null,
      "margin": null,
      "max_height": null,
      "max_width": null,
      "min_height": null,
      "min_width": null,
      "object_fit": null,
      "object_position": null,
      "order": null,
      "overflow": null,
      "overflow_x": null,
      "overflow_y": null,
      "padding": null,
      "right": null,
      "top": null,
      "visibility": null,
      "width": "20px"
     }
    },
    "236e05ab943b429b91d8b16f462f54e7": {
     "model_module": "@jupyter-widgets/controls",
     "model_name": "ProgressStyleModel",
     "model_module_version": "1.5.0",
     "state": {
      "_model_module": "@jupyter-widgets/controls",
      "_model_module_version": "1.5.0",
      "_model_name": "ProgressStyleModel",
      "_view_count": null,
      "_view_module": "@jupyter-widgets/base",
      "_view_module_version": "1.2.0",
      "_view_name": "StyleView",
      "bar_color": null,
      "description_width": ""
     }
    },
    "2fa66d50b1524160a50d2eeec8f08db8": {
     "model_module": "@jupyter-widgets/base",
     "model_name": "LayoutModel",
     "model_module_version": "1.2.0",
     "state": {
      "_model_module": "@jupyter-widgets/base",
      "_model_module_version": "1.2.0",
      "_model_name": "LayoutModel",
      "_view_count": null,
      "_view_module": "@jupyter-widgets/base",
      "_view_module_version": "1.2.0",
      "_view_name": "LayoutView",
      "align_content": null,
      "align_items": null,
      "align_self": null,
      "border": null,
      "bottom": null,
      "display": null,
      "flex": null,
      "flex_flow": null,
      "grid_area": null,
      "grid_auto_columns": null,
      "grid_auto_flow": null,
      "grid_auto_rows": null,
      "grid_column": null,
      "grid_gap": null,
      "grid_row": null,
      "grid_template_areas": null,
      "grid_template_columns": null,
      "grid_template_rows": null,
      "height": null,
      "justify_content": null,
      "justify_items": null,
      "left": null,
      "margin": null,
      "max_height": null,
      "max_width": null,
      "min_height": null,
      "min_width": null,
      "object_fit": null,
      "object_position": null,
      "order": null,
      "overflow": null,
      "overflow_x": null,
      "overflow_y": null,
      "padding": null,
      "right": null,
      "top": null,
      "visibility": null,
      "width": null
     }
    },
    "f875241998ea45f78b06d3c11a5a5a73": {
     "model_module": "@jupyter-widgets/controls",
     "model_name": "DescriptionStyleModel",
     "model_module_version": "1.5.0",
     "state": {
      "_model_module": "@jupyter-widgets/controls",
      "_model_module_version": "1.5.0",
      "_model_name": "DescriptionStyleModel",
      "_view_count": null,
      "_view_module": "@jupyter-widgets/base",
      "_view_module_version": "1.2.0",
      "_view_name": "StyleView",
      "description_width": ""
     }
    }
   }
  }
 },
 "nbformat": 4,
 "nbformat_minor": 0
}